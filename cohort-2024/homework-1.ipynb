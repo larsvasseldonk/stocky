{
 "cells": [
  {
   "cell_type": "markdown",
   "metadata": {},
   "source": [
    "## Module 1 Homework"
   ]
  },
  {
   "cell_type": "markdown",
   "metadata": {},
   "source": [
    "## Import packages and set constants"
   ]
  },
  {
   "cell_type": "code",
   "execution_count": 1,
   "metadata": {},
   "outputs": [],
   "source": [
    "# IMPORTS\n",
    "import numpy as np\n",
    "import pandas as pd\n",
    "\n",
    "#Fin Data Sources\n",
    "import yfinance as yf\n",
    "import pandas_datareader as pdr\n",
    "\n",
    "#Data viz\n",
    "import plotly.graph_objs as go\n",
    "import plotly.express as px\n",
    "\n",
    "import time\n",
    "from datetime import date\n",
    "\n",
    "pd.options.mode.chained_assignment = None  # default='warn'"
   ]
  },
  {
   "cell_type": "code",
   "execution_count": 2,
   "metadata": {},
   "outputs": [
    {
     "name": "stdout",
     "output_type": "stream",
     "text": [
      "Year = 2024; month= 5; day=8\n",
      "Period for indexes: 1954-05-08 to 2024-05-08 \n"
     ]
    }
   ],
   "source": [
    "end = date.today()\n",
    "print(f'Year = {end.year}; month= {end.month}; day={end.day}')\n",
    "\n",
    "start = date(year=end.year-70, month=end.month, day=end.day)\n",
    "print(f'Period for indexes: {start} to {end} ')"
   ]
  },
  {
   "cell_type": "markdown",
   "metadata": {},
   "source": [
    "### Question 1: [Macro] Average growth of GDP in 2023\n",
    "\n",
    "**What is the average growth (in %) of GDP in 2023?**\n",
    "\n",
    "Download the timeseries Real Gross Domestic Product (GDPC1) from FRED (https://fred.stlouisfed.org/series/GDPC1). \n",
    "Calculate year-over-year (YoY) growth rate (that is, divide current value to one 4 quarters ago). Find the average YoY growth in 2023 (average from 4 YoY numbers).\n",
    "Round to 1 digit after the decimal point: e.g. if you get 5.66% growth => you should answer  5.7\n",
    "\n",
    "**Notes**\n",
    "\n",
    "Definitions:\n",
    "- GDP = Gross Domestic Product\n",
    "  - In Dutch: BNP = Bruto Nationaal Product is het totale inkomen van de mensen die in een land wonen, ongeacht of ze in dat land of het buitenland werken.\n",
    "- BBP = Bruto Binnenlands Product, de waarde van alle goederen en diensten die in een land worden geproduceerd. "
   ]
  },
  {
   "cell_type": "code",
   "execution_count": 3,
   "metadata": {},
   "outputs": [
    {
     "data": {
      "text/html": [
       "<div>\n",
       "<style scoped>\n",
       "    .dataframe tbody tr th:only-of-type {\n",
       "        vertical-align: middle;\n",
       "    }\n",
       "\n",
       "    .dataframe tbody tr th {\n",
       "        vertical-align: top;\n",
       "    }\n",
       "\n",
       "    .dataframe thead th {\n",
       "        text-align: right;\n",
       "    }\n",
       "</style>\n",
       "<table border=\"1\" class=\"dataframe\">\n",
       "  <thead>\n",
       "    <tr style=\"text-align: right;\">\n",
       "      <th></th>\n",
       "      <th>date</th>\n",
       "      <th>gdpc1</th>\n",
       "      <th>yoy</th>\n",
       "    </tr>\n",
       "  </thead>\n",
       "  <tbody>\n",
       "    <tr>\n",
       "      <th>0</th>\n",
       "      <td>1947-01-01</td>\n",
       "      <td>2182.681</td>\n",
       "      <td>NaN</td>\n",
       "    </tr>\n",
       "    <tr>\n",
       "      <th>1</th>\n",
       "      <td>1947-04-01</td>\n",
       "      <td>2176.892</td>\n",
       "      <td>NaN</td>\n",
       "    </tr>\n",
       "    <tr>\n",
       "      <th>2</th>\n",
       "      <td>1947-07-01</td>\n",
       "      <td>2172.432</td>\n",
       "      <td>NaN</td>\n",
       "    </tr>\n",
       "    <tr>\n",
       "      <th>3</th>\n",
       "      <td>1947-10-01</td>\n",
       "      <td>2206.452</td>\n",
       "      <td>NaN</td>\n",
       "    </tr>\n",
       "    <tr>\n",
       "      <th>4</th>\n",
       "      <td>1948-01-01</td>\n",
       "      <td>2239.682</td>\n",
       "      <td>2.611513</td>\n",
       "    </tr>\n",
       "  </tbody>\n",
       "</table>\n",
       "</div>"
      ],
      "text/plain": [
       "        date     gdpc1       yoy\n",
       "0 1947-01-01  2182.681       NaN\n",
       "1 1947-04-01  2176.892       NaN\n",
       "2 1947-07-01  2172.432       NaN\n",
       "3 1947-10-01  2206.452       NaN\n",
       "4 1948-01-01  2239.682  2.611513"
      ]
     },
     "execution_count": 3,
     "metadata": {},
     "output_type": "execute_result"
    }
   ],
   "source": [
    "# Load data\n",
    "gdpc1 = pd.read_csv(\"data/GDPC1.csv\").astype({\"DATE\": \"datetime64[ns]\"})\n",
    "\n",
    "# Lowercase column names\n",
    "gdpc1.columns = [col.lower() for col in gdpc1.columns]\n",
    "\n",
    "# Calculate year-over-year growth: (new-old/old)*100\n",
    "gdpc1[\"yoy\"] = (gdpc1[\"gdpc1\"]/gdpc1[\"gdpc1\"].shift(4)-1)*100\n",
    "\n",
    "# Print first rows\n",
    "gdpc1.head()"
   ]
  },
  {
   "cell_type": "code",
   "execution_count": 4,
   "metadata": {},
   "outputs": [
    {
     "name": "stdout",
     "output_type": "stream",
     "text": [
      "Q1) Average growth (in %) of GDP in 2023 is: 2.5\n"
     ]
    }
   ],
   "source": [
    "# Answer question\n",
    "print(\n",
    "    \"Q1) Average growth (in %) of GDP in 2023 is:\",\n",
    "    round(gdpc1[gdpc1[\"date\"].dt.year==2023][\"yoy\"].sum()/4, 1)\n",
    ")"
   ]
  },
  {
   "cell_type": "markdown",
   "metadata": {},
   "source": [
    "**Extra: trying to find the average growth of GDP in 2023 in the Netherlands**\n",
    "\n",
    "Definitions:\n",
    "- SCA = seasonally and calendar-adjusted\n",
    "- NSA = non-seasonally-adjusted."
   ]
  },
  {
   "cell_type": "code",
   "execution_count": 5,
   "metadata": {},
   "outputs": [
    {
     "data": {
      "text/html": [
       "<div>\n",
       "<style scoped>\n",
       "    .dataframe tbody tr th:only-of-type {\n",
       "        vertical-align: middle;\n",
       "    }\n",
       "\n",
       "    .dataframe tbody tr th {\n",
       "        vertical-align: top;\n",
       "    }\n",
       "\n",
       "    .dataframe thead th {\n",
       "        text-align: right;\n",
       "    }\n",
       "</style>\n",
       "<table border=\"1\" class=\"dataframe\">\n",
       "  <thead>\n",
       "    <tr style=\"text-align: right;\">\n",
       "      <th></th>\n",
       "      <th>country</th>\n",
       "      <th>freq</th>\n",
       "      <th>s_adj</th>\n",
       "      <th>date</th>\n",
       "      <th>gdp</th>\n",
       "      <th>year</th>\n",
       "      <th>quarter</th>\n",
       "    </tr>\n",
       "  </thead>\n",
       "  <tbody>\n",
       "    <tr>\n",
       "      <th>0</th>\n",
       "      <td>AT</td>\n",
       "      <td>Q</td>\n",
       "      <td>NSA</td>\n",
       "      <td>1995-q1</td>\n",
       "      <td>41700.2</td>\n",
       "      <td>1995</td>\n",
       "      <td>1</td>\n",
       "    </tr>\n",
       "    <tr>\n",
       "      <th>1</th>\n",
       "      <td>BE</td>\n",
       "      <td>Q</td>\n",
       "      <td>NSA</td>\n",
       "      <td>1995-q1</td>\n",
       "      <td>51243.0</td>\n",
       "      <td>1995</td>\n",
       "      <td>1</td>\n",
       "    </tr>\n",
       "    <tr>\n",
       "      <th>2</th>\n",
       "      <td>BG</td>\n",
       "      <td>Q</td>\n",
       "      <td>NSA</td>\n",
       "      <td>1995-q1</td>\n",
       "      <td>268.0</td>\n",
       "      <td>1995</td>\n",
       "      <td>1</td>\n",
       "    </tr>\n",
       "    <tr>\n",
       "      <th>3</th>\n",
       "      <td>CY</td>\n",
       "      <td>Q</td>\n",
       "      <td>NSA</td>\n",
       "      <td>1995-q1</td>\n",
       "      <td>1743.0</td>\n",
       "      <td>1995</td>\n",
       "      <td>1</td>\n",
       "    </tr>\n",
       "    <tr>\n",
       "      <th>4</th>\n",
       "      <td>CZ</td>\n",
       "      <td>Q</td>\n",
       "      <td>NSA</td>\n",
       "      <td>1995-q1</td>\n",
       "      <td>351523.0</td>\n",
       "      <td>1995</td>\n",
       "      <td>1</td>\n",
       "    </tr>\n",
       "  </tbody>\n",
       "</table>\n",
       "</div>"
      ],
      "text/plain": [
       "  country freq s_adj     date       gdp  year quarter\n",
       "0      AT    Q   NSA  1995-q1   41700.2  1995       1\n",
       "1      BE    Q   NSA  1995-q1   51243.0  1995       1\n",
       "2      BG    Q   NSA  1995-q1     268.0  1995       1\n",
       "3      CY    Q   NSA  1995-q1    1743.0  1995       1\n",
       "4      CZ    Q   NSA  1995-q1  351523.0  1995       1"
      ]
     },
     "execution_count": 5,
     "metadata": {},
     "output_type": "execute_result"
    }
   ],
   "source": [
    "# Import eurostat package\n",
    "import eurostat\n",
    "\n",
    "# Load Eurostat data\n",
    "gdpeu = eurostat.get_data_df(\"tipsau20\")\n",
    "\n",
    "# Lowercase column names\n",
    "gdpeu.columns = [col.lower() for col in gdpeu.columns]\n",
    "\n",
    "# Rename column names\n",
    "gdpeu.rename(columns={\"geo\\\\time_period\": \"country\"}, inplace=True)\n",
    "\n",
    "# Drop unused columns\n",
    "gdpeu.drop(columns=[\"unit\", \"na_item\"], inplace=True)\n",
    "\n",
    "# Melt data frame to transform columns to rows\n",
    "gdpeu = gdpeu.melt(\n",
    "    id_vars=[\"country\", \"freq\", \"s_adj\"], var_name=\"date\", value_name=\"gdp\")\n",
    "\n",
    "# Extract year and quarter from date\n",
    "gdpeu[\"year\"] = gdpeu[\"date\"].str[:4]\n",
    "gdpeu[\"quarter\"] = gdpeu[\"date\"].str[-1]\n",
    "\n",
    "# Show first rows\n",
    "gdpeu.head()"
   ]
  },
  {
   "cell_type": "code",
   "execution_count": 6,
   "metadata": {},
   "outputs": [],
   "source": [
    "def print_average_gdp_growth(\n",
    "    df: pd.DataFrame, country: str = \"NL\", year: str = \"2023\"\n",
    ") -> None:\n",
    "\n",
    "    # Filter data based on input parameters\n",
    "    gdp = gdpeu[\n",
    "        (gdpeu[\"country\"]==country)\n",
    "        & (gdpeu[\"s_adj\"]==\"NSA\")\n",
    "    ]\n",
    "\n",
    "    # Calculate year-over-year growth\n",
    "    gdp[\"yoy\"] = (gdp[\"gdp\"]/gdp[\"gdp\"].shift(4)-1)*100\n",
    "\n",
    "    # Show last rows\n",
    "    gdp.tail()\n",
    "\n",
    "    print(\n",
    "        f\"Q1) Average growth (in %) of GDP in {year} in {country} is:\",\n",
    "        round(gdp[gdp[\"year\"]==year][\"yoy\"].sum()/4, 1)\n",
    "    )"
   ]
  },
  {
   "cell_type": "code",
   "execution_count": 7,
   "metadata": {},
   "outputs": [
    {
     "name": "stdout",
     "output_type": "stream",
     "text": [
      "Q1) Average growth (in %) of GDP in 2023 in NL is: 7.9\n",
      "Q1) Average growth (in %) of GDP in 2023 in IT is: 6.3\n"
     ]
    }
   ],
   "source": [
    "# Average growth in the Netherlands\n",
    "print_average_gdp_growth(gdpeu, country=\"NL\")\n",
    "# Average growth in the Italy\n",
    "print_average_gdp_growth(gdpeu, country=\"IT\")"
   ]
  },
  {
   "cell_type": "markdown",
   "metadata": {},
   "source": [
    "### Question 2. [Macro] Inverse \"Treasury Yield\"\n",
    "\n",
    "**Find the min value of (dgs10-dgs2) after since year 2000 (2000-01-01) and write it down as an answer, round to 1 digit after the decimal point.**\n",
    "\n",
    "\n",
    "Download DGS2 and DGS10 interest rates series (https://fred.stlouisfed.org/series/DGS2,\n",
    " https://fred.stlouisfed.org/series/DGS10). Join them together to one dataframe on date (you might need to read about pandas.DataFrame.join()), calculate the difference dgs10-dgs2 daily.\n",
    "\n",
    "(Additional: think about what does the \"inverted yield curve\" mean for the market and investors? do you see the same thing in your country/market of interest? Do you think it can be a good predictive feature for the models?)\n",
    "\n",
    "**Notes**\n",
    "\n",
    "\"Treasury Yields\" = rendementen op staatsobligaties"
   ]
  },
  {
   "cell_type": "code",
   "execution_count": 8,
   "metadata": {},
   "outputs": [
    {
     "data": {
      "text/html": [
       "<div>\n",
       "<style scoped>\n",
       "    .dataframe tbody tr th:only-of-type {\n",
       "        vertical-align: middle;\n",
       "    }\n",
       "\n",
       "    .dataframe tbody tr th {\n",
       "        vertical-align: top;\n",
       "    }\n",
       "\n",
       "    .dataframe thead th {\n",
       "        text-align: right;\n",
       "    }\n",
       "</style>\n",
       "<table border=\"1\" class=\"dataframe\">\n",
       "  <thead>\n",
       "    <tr style=\"text-align: right;\">\n",
       "      <th></th>\n",
       "      <th>date</th>\n",
       "      <th>dgs2</th>\n",
       "      <th>dgs10</th>\n",
       "      <th>diff</th>\n",
       "    </tr>\n",
       "  </thead>\n",
       "  <tbody>\n",
       "    <tr>\n",
       "      <th>0</th>\n",
       "      <td>2000-01-03</td>\n",
       "      <td>6.38</td>\n",
       "      <td>6.58</td>\n",
       "      <td>0.20</td>\n",
       "    </tr>\n",
       "    <tr>\n",
       "      <th>1</th>\n",
       "      <td>2000-01-04</td>\n",
       "      <td>6.30</td>\n",
       "      <td>6.49</td>\n",
       "      <td>0.19</td>\n",
       "    </tr>\n",
       "    <tr>\n",
       "      <th>2</th>\n",
       "      <td>2000-01-05</td>\n",
       "      <td>6.38</td>\n",
       "      <td>6.62</td>\n",
       "      <td>0.24</td>\n",
       "    </tr>\n",
       "    <tr>\n",
       "      <th>3</th>\n",
       "      <td>2000-01-06</td>\n",
       "      <td>6.35</td>\n",
       "      <td>6.57</td>\n",
       "      <td>0.22</td>\n",
       "    </tr>\n",
       "    <tr>\n",
       "      <th>4</th>\n",
       "      <td>2000-01-07</td>\n",
       "      <td>6.31</td>\n",
       "      <td>6.52</td>\n",
       "      <td>0.21</td>\n",
       "    </tr>\n",
       "  </tbody>\n",
       "</table>\n",
       "</div>"
      ],
      "text/plain": [
       "        date  dgs2  dgs10  diff\n",
       "0 2000-01-03  6.38   6.58  0.20\n",
       "1 2000-01-04  6.30   6.49  0.19\n",
       "2 2000-01-05  6.38   6.62  0.24\n",
       "3 2000-01-06  6.35   6.57  0.22\n",
       "4 2000-01-07  6.31   6.52  0.21"
      ]
     },
     "execution_count": 8,
     "metadata": {},
     "output_type": "execute_result"
    }
   ],
   "source": [
    "# Load data\n",
    "dgs2 = pd.read_csv(\"data/dgs2.csv\")\n",
    "dgs10 = pd.read_csv(\"data/dgs10.csv\")\n",
    "\n",
    "# Replace . by NaN values\n",
    "dgs2.replace(\".\", np.NaN, inplace=True)\n",
    "dgs10.replace(\".\", np.NaN, inplace=True)\n",
    "\n",
    "# Lowercase column names\n",
    "dgs2.columns = [col.lower() for col in dgs2.columns]\n",
    "dgs10.columns = [col.lower() for col in dgs10.columns]\n",
    "\n",
    "# Set column types\n",
    "dgs2 = dgs2.astype({\"date\": \"datetime64[ns]\", \"dgs2\": \"float\"})\n",
    "dgs10 = dgs10.astype({\"date\": \"datetime64[ns]\", \"dgs10\": \"float\"})\n",
    "\n",
    "# Merge DGS2 and DGS10 dataframes\n",
    "dgs = dgs2.merge(dgs10, on=\"date\", how=\"inner\")\n",
    "\n",
    "# Calculate daily differences between DGS2 and DGS10\n",
    "dgs[\"diff\"] = dgs[\"dgs10\"] - dgs[\"dgs2\"]\n",
    "\n",
    "# Show first rows\n",
    "dgs.head()"
   ]
  },
  {
   "cell_type": "code",
   "execution_count": 9,
   "metadata": {},
   "outputs": [
    {
     "name": "stdout",
     "output_type": "stream",
     "text": [
      "Q2) Minimal difference between DGS10 and DGS2 since year 2000: -1.1\n"
     ]
    }
   ],
   "source": [
    "print(\n",
    "    \"Q2) Minimal difference between DGS10 and DGS2 since year 2000:\",\n",
    "    round(dgs[dgs[\"date\"]>\"2000-01-01\"][\"diff\"].min(), 1)\n",
    ")"
   ]
  },
  {
   "cell_type": "markdown",
   "metadata": {},
   "source": [
    "### Question 3. [Index] Which Index is better recently?\n",
    "\n",
    "**Compare S&P 500 and IPC Mexico indexes by the 5 year growth and write down the largest value as an answer (%)**\n",
    "\n",
    "Download on Yahoo Finance two daily index prices for S&P 500 (^GSPC, https://finance.yahoo.com/quote/%5EGSPC/) and IPC Mexico (^MXX, https://finance.yahoo.com/quote/%5EMXX/). Compare 5Y growth for both (between 2019-04-09 and 2024-04-09). Select the higher growing index and write down the growth in % (closest integer %). E.g. if ratio end/start was 2.0925 (or growth of 109.25%), you need to write down 109 as your answer.\n",
    "\n",
    "(Additional: think of other indexes and try to download stats and compare the growth? Do create 10Y and 20Y growth stats. What is an average yearly growth rate (CAGR) for each of the indexes you select?)\n",
    "\n",
    "**Notes**"
   ]
  },
  {
   "cell_type": "code",
   "execution_count": 10,
   "metadata": {},
   "outputs": [
    {
     "name": "stderr",
     "output_type": "stream",
     "text": [
      "[*********************100%%**********************]  1 of 1 completed\n",
      "[*********************100%%**********************]  1 of 1 completed\n"
     ]
    },
    {
     "data": {
      "text/html": [
       "<div>\n",
       "<style scoped>\n",
       "    .dataframe tbody tr th:only-of-type {\n",
       "        vertical-align: middle;\n",
       "    }\n",
       "\n",
       "    .dataframe tbody tr th {\n",
       "        vertical-align: top;\n",
       "    }\n",
       "\n",
       "    .dataframe thead th {\n",
       "        text-align: right;\n",
       "    }\n",
       "</style>\n",
       "<table border=\"1\" class=\"dataframe\">\n",
       "  <thead>\n",
       "    <tr style=\"text-align: right;\">\n",
       "      <th></th>\n",
       "      <th>Date</th>\n",
       "      <th>5y_growth_snp</th>\n",
       "      <th>5y_growth_ipc</th>\n",
       "    </tr>\n",
       "  </thead>\n",
       "  <tbody>\n",
       "    <tr>\n",
       "      <th>0</th>\n",
       "      <td>1991-11-08</td>\n",
       "      <td>2.341000</td>\n",
       "      <td>NaN</td>\n",
       "    </tr>\n",
       "    <tr>\n",
       "      <th>1</th>\n",
       "      <td>1991-11-11</td>\n",
       "      <td>2.353167</td>\n",
       "      <td>NaN</td>\n",
       "    </tr>\n",
       "    <tr>\n",
       "      <th>2</th>\n",
       "      <td>1991-11-12</td>\n",
       "      <td>2.373983</td>\n",
       "      <td>NaN</td>\n",
       "    </tr>\n",
       "    <tr>\n",
       "      <th>3</th>\n",
       "      <td>1991-11-13</td>\n",
       "      <td>2.372455</td>\n",
       "      <td>NaN</td>\n",
       "    </tr>\n",
       "    <tr>\n",
       "      <th>4</th>\n",
       "      <td>1991-11-14</td>\n",
       "      <td>2.386145</td>\n",
       "      <td>NaN</td>\n",
       "    </tr>\n",
       "  </tbody>\n",
       "</table>\n",
       "</div>"
      ],
      "text/plain": [
       "        Date  5y_growth_snp  5y_growth_ipc\n",
       "0 1991-11-08       2.341000            NaN\n",
       "1 1991-11-11       2.353167            NaN\n",
       "2 1991-11-12       2.373983            NaN\n",
       "3 1991-11-13       2.372455            NaN\n",
       "4 1991-11-14       2.386145            NaN"
      ]
     },
     "execution_count": 10,
     "metadata": {},
     "output_type": "execute_result"
    }
   ],
   "source": [
    "# Import yfinance package\n",
    "import yfinance as yf\n",
    "\n",
    "# Load S&P500 and IPC Mexico daily index prices data\n",
    "\n",
    "# https://finance.yahoo.com/quote/%5EGSPC/\n",
    "# SNP - SNP Real Time Price. Currency in USD\n",
    "snp500 = yf.download(\n",
    "    tickers=\"^GSPC\",\n",
    "    period=\"max\",\n",
    "    interval=\"1d\").reset_index()\n",
    "\n",
    "# https://finance.yahoo.com/quote/%5EMXX\n",
    "# MXX - IPC MEXICO. Currency in USD\n",
    "ipc_mexico = yf.download(\n",
    "    tickers = \"^MXX\",\n",
    "    period = \"max\",\n",
    "    interval = \"1d\").reset_index()\n",
    "\n",
    "# Calculate 5 years growth\n",
    "snp500[\"5y_growth\"] = snp500[\"Adj Close\"] / snp500[\"Adj Close\"].shift(365*5)\n",
    "ipc_mexico[\"5y_growth\"] = ipc_mexico[\"Adj Close\"] / ipc_mexico[\"Adj Close\"].shift(365*5)\n",
    "\n",
    "# Merge 5Y growth rates together\n",
    "growths = snp500[[\"Date\", \"5y_growth\"]].merge(\n",
    "    ipc_mexico[[\"Date\", \"5y_growth\"]], \n",
    "    on=\"Date\", \n",
    "    suffixes=(\"_snp\", \"_ipc\"))\n",
    "\n",
    "# Show first rows\n",
    "growths.head()"
   ]
  },
  {
   "cell_type": "code",
   "execution_count": 11,
   "metadata": {},
   "outputs": [
    {
     "data": {
      "text/html": [
       "<div>\n",
       "<style scoped>\n",
       "    .dataframe tbody tr th:only-of-type {\n",
       "        vertical-align: middle;\n",
       "    }\n",
       "\n",
       "    .dataframe tbody tr th {\n",
       "        vertical-align: top;\n",
       "    }\n",
       "\n",
       "    .dataframe thead th {\n",
       "        text-align: right;\n",
       "    }\n",
       "</style>\n",
       "<table border=\"1\" class=\"dataframe\">\n",
       "  <thead>\n",
       "    <tr style=\"text-align: right;\">\n",
       "      <th></th>\n",
       "      <th>5y_growth_snp</th>\n",
       "      <th>5y_growth_ipc</th>\n",
       "    </tr>\n",
       "  </thead>\n",
       "  <tbody>\n",
       "    <tr>\n",
       "      <th>count</th>\n",
       "      <td>1284.000000</td>\n",
       "      <td>1284.000000</td>\n",
       "    </tr>\n",
       "    <tr>\n",
       "      <th>mean</th>\n",
       "      <td>2.133274</td>\n",
       "      <td>1.120767</td>\n",
       "    </tr>\n",
       "    <tr>\n",
       "      <th>std</th>\n",
       "      <td>0.160927</td>\n",
       "      <td>0.124511</td>\n",
       "    </tr>\n",
       "    <tr>\n",
       "      <th>min</th>\n",
       "      <td>1.558284</td>\n",
       "      <td>0.758234</td>\n",
       "    </tr>\n",
       "    <tr>\n",
       "      <th>25%</th>\n",
       "      <td>2.024059</td>\n",
       "      <td>1.060081</td>\n",
       "    </tr>\n",
       "    <tr>\n",
       "      <th>50%</th>\n",
       "      <td>2.160428</td>\n",
       "      <td>1.146979</td>\n",
       "    </tr>\n",
       "    <tr>\n",
       "      <th>75%</th>\n",
       "      <td>2.244561</td>\n",
       "      <td>1.203179</td>\n",
       "    </tr>\n",
       "    <tr>\n",
       "      <th>max</th>\n",
       "      <td>2.517096</td>\n",
       "      <td>1.385267</td>\n",
       "    </tr>\n",
       "  </tbody>\n",
       "</table>\n",
       "</div>"
      ],
      "text/plain": [
       "       5y_growth_snp  5y_growth_ipc\n",
       "count    1284.000000    1284.000000\n",
       "mean        2.133274       1.120767\n",
       "std         0.160927       0.124511\n",
       "min         1.558284       0.758234\n",
       "25%         2.024059       1.060081\n",
       "50%         2.160428       1.146979\n",
       "75%         2.244561       1.203179\n",
       "max         2.517096       1.385267"
      ]
     },
     "execution_count": 11,
     "metadata": {},
     "output_type": "execute_result"
    }
   ],
   "source": [
    "# Get statistics about growth rates\n",
    "growths[\n",
    "    (growths[\"Date\"] >= \"2019-01-09\") \n",
    "    & (growths[\"Date\"] <= \"2024-04-09\")\n",
    "][[\"5y_growth_snp\", \"5y_growth_ipc\"]].describe()"
   ]
  },
  {
   "cell_type": "code",
   "execution_count": 12,
   "metadata": {},
   "outputs": [
    {
     "name": "stdout",
     "output_type": "stream",
     "text": [
      "Q3) Based on the 5 year growth rates, the S&P500 index seems to be outperforming the IPC Mexico index in the last years\n"
     ]
    }
   ],
   "source": [
    "print(\"Q3) Based on the 5 year growth rates, the S&P500 index seems to be outperforming the IPC Mexico index in the last years\")"
   ]
  },
  {
   "cell_type": "markdown",
   "metadata": {},
   "source": [
    "### Question 4. [Stocks OHLCV] 52-weeks range ratio (2023) for the selected stocks\n",
    "\n",
    "**Find the largest range ratio [=(max-min)/max] of Adj.Close prices in 2023**\n",
    "\n",
    "Download the 2023 daily OHLCV data on Yahoo Finance for top6 stocks on earnings (https://companiesmarketcap.com/most-profitable-companies/): 2222.SR,BRK-B, AAPL, MSFT, GOOG, JPM.\n",
    "\n",
    "Here is the example data you should see in Pandas for \"2222.SR\": https://finance.yahoo.com/quote/2222.SR/history\n",
    "\n",
    "Calculate maximum-minimim \"Adj.Close\" price for each stock and divide it by the maximum \"Adj.Close\" value.\n",
    "Round the result to two decimal places (e.g. 0.1575 will be 0.16)\n",
    "\n",
    "(Additional: why this may be important for your research?)\n",
    "\n",
    "**Notes**\n",
    "\n",
    "Definitions:\n",
    "- OHLCV = Open, High, Low, Close and Volum"
   ]
  },
  {
   "cell_type": "code",
   "execution_count": 13,
   "metadata": {},
   "outputs": [],
   "source": [
    "# Define function to get Yahoo Finance code to avoid duplicate code\n",
    "def get_yf_data(name: str, period: str = \"max\", interval: str = \"1d\") -> pd.DataFrame:\n",
    "\n",
    "    # Load data\n",
    "    df = yf.download(tickers=name, period=period, interval=interval).reset_index()\n",
    "\n",
    "    # Lowercase column names\n",
    "    df.columns = [col.lower() for col in df.columns]\n",
    "    \n",
    "    # Get year\n",
    "    df[\"year\"] = df[\"date\"].dt.year\n",
    "\n",
    "    return df"
   ]
  },
  {
   "cell_type": "code",
   "execution_count": 14,
   "metadata": {},
   "outputs": [
    {
     "name": "stderr",
     "output_type": "stream",
     "text": [
      "[*********************100%%**********************]  1 of 1 completed\n",
      "[*********************100%%**********************]  1 of 1 completed\n",
      "[*********************100%%**********************]  1 of 1 completed\n",
      "[*********************100%%**********************]  1 of 1 completed\n",
      "[*********************100%%**********************]  1 of 1 completed\n",
      "[*********************100%%**********************]  1 of 1 completed\n"
     ]
    }
   ],
   "source": [
    "# Load data\n",
    "saudi_arabian_oil_company = get_yf_data(\"2222.SR\")\n",
    "berkshire_gathaway = get_yf_data(\"BRK-B\")\n",
    "apple = get_yf_data(\"AAPL\")\n",
    "microsoft = get_yf_data(\"MSFT\")\n",
    "alphabet = get_yf_data(\"GOOG\")\n",
    "jp_morgan = get_yf_data(\"JPM\")\n"
   ]
  },
  {
   "cell_type": "code",
   "execution_count": 15,
   "metadata": {},
   "outputs": [],
   "source": [
    "def get_largest_range_ratio(df: pd.DataFrame, year: int = 2023):\n",
    "\n",
    "    df = df[df[\"year\"]==year]\n",
    "\n",
    "    return round((df[\"adj close\"].max() - df[\"adj close\"].min()) / df[\"adj close\"].max(), 2)"
   ]
  },
  {
   "cell_type": "code",
   "execution_count": 16,
   "metadata": {},
   "outputs": [
    {
     "name": "stdout",
     "output_type": "stream",
     "text": [
      "Saudi Arabian Oil Company: 0.21\n",
      "Berkshire Gathaway: 0.21\n",
      "Apple: 0.37\n",
      "Microsoft: 0.42\n",
      "Alphabet: 0.39\n",
      "JP Morgan: 0.28\n"
     ]
    }
   ],
   "source": [
    "print(\"Saudi Arabian Oil Company:\", get_largest_range_ratio(saudi_arabian_oil_company))\n",
    "print(\"Berkshire Gathaway:\", get_largest_range_ratio(berkshire_gathaway))\n",
    "print(\"Apple:\", get_largest_range_ratio(apple))\n",
    "print(\"Microsoft:\", get_largest_range_ratio(microsoft))\n",
    "print(\"Alphabet:\", get_largest_range_ratio(alphabet))\n",
    "print(\"JP Morgan:\", get_largest_range_ratio(jp_morgan))"
   ]
  },
  {
   "cell_type": "markdown",
   "metadata": {},
   "source": [
    "The maximum-minimum \"Adj.Close\" price metric gives an understanding of how much growth the stock has shown in the past year. The higher this value the better."
   ]
  },
  {
   "cell_type": "markdown",
   "metadata": {},
   "source": [
    "### Question 5. [Stocks] Dividend Yield\n",
    "**Find the largest dividend yield for the same set of stocks**\n",
    "\n",
    "Use the same list of companies (2222.SR,BRK-B, AAPL, MSFT, GOOG, JPM) and download all dividends paid in 2023.\n",
    "You can use `get_actions()` method or `.dividends` field in yfinance library (https://github.com/ranaroussi/yfinance?tab=readme-ov-file#quick-start)\n",
    "\n",
    "Sum up all dividends paid in 2023 per company and divide each value by the closing price (Adj.Close) at the last trading day of the year.\n",
    "\n",
    "Find the maximm value in % and round to 1 digit after the decimal point. (E.g., if you obtained $1.25 dividends paid and the end year stock price is $100, the dividend yield is 1.25% -- and your answer should be equal to 1.3)"
   ]
  },
  {
   "cell_type": "code",
   "execution_count": 19,
   "metadata": {},
   "outputs": [],
   "source": [
    "data = pd.DataFrame()\n",
    "stocks = [\"2222.SR\", \"BRK-B\", \"AAPL\", \"MSFT\", \"GOOG\", \"JPM\"]\n",
    "for name in stocks:\n",
    "    # Load Ticker\n",
    "    yf_ticker = yf.Ticker(name)\n",
    "\n",
    "    # Get dividends\n",
    "    dividends = yf_ticker.dividends.reset_index()\n",
    "    dividends[\"name\"] = name\n",
    "\n",
    "    # Select only dividends paid in 2023\n",
    "    dividends = dividends[(dividends[\"Date\"] >= \"2023-01-01\") & (dividends[\"Date\"] < \"2024-01-01\")]\n",
    "\n",
    "    # Stack together\n",
    "    data = pd.concat([data, dividends])"
   ]
  },
  {
   "cell_type": "code",
   "execution_count": 20,
   "metadata": {},
   "outputs": [
    {
     "data": {
      "text/html": [
       "<div>\n",
       "<style scoped>\n",
       "    .dataframe tbody tr th:only-of-type {\n",
       "        vertical-align: middle;\n",
       "    }\n",
       "\n",
       "    .dataframe tbody tr th {\n",
       "        vertical-align: top;\n",
       "    }\n",
       "\n",
       "    .dataframe thead th {\n",
       "        text-align: right;\n",
       "    }\n",
       "</style>\n",
       "<table border=\"1\" class=\"dataframe\">\n",
       "  <thead>\n",
       "    <tr style=\"text-align: right;\">\n",
       "      <th></th>\n",
       "      <th>name</th>\n",
       "      <th>Dividends</th>\n",
       "    </tr>\n",
       "  </thead>\n",
       "  <tbody>\n",
       "    <tr>\n",
       "      <th>0</th>\n",
       "      <td>2222.SR</td>\n",
       "      <td>0.910764</td>\n",
       "    </tr>\n",
       "    <tr>\n",
       "      <th>1</th>\n",
       "      <td>AAPL</td>\n",
       "      <td>0.950000</td>\n",
       "    </tr>\n",
       "    <tr>\n",
       "      <th>2</th>\n",
       "      <td>JPM</td>\n",
       "      <td>4.050000</td>\n",
       "    </tr>\n",
       "    <tr>\n",
       "      <th>3</th>\n",
       "      <td>MSFT</td>\n",
       "      <td>2.790000</td>\n",
       "    </tr>\n",
       "  </tbody>\n",
       "</table>\n",
       "</div>"
      ],
      "text/plain": [
       "      name  Dividends\n",
       "0  2222.SR   0.910764\n",
       "1     AAPL   0.950000\n",
       "2      JPM   4.050000\n",
       "3     MSFT   2.790000"
      ]
     },
     "execution_count": 20,
     "metadata": {},
     "output_type": "execute_result"
    }
   ],
   "source": [
    "data.groupby(\"name\").sum(numeric_only=True).reset_index()"
   ]
  },
  {
   "cell_type": "code",
   "execution_count": 26,
   "metadata": {},
   "outputs": [
    {
     "name": "stdout",
     "output_type": "stream",
     "text": [
      "2222.SR 4.6\n",
      "BRK-B None\n",
      "AAPL 0.5\n",
      "MSFT 0.7\n",
      "GOOG None\n",
      "JPM 2.2\n"
     ]
    }
   ],
   "source": [
    "# Get trailing annual dividend yield\n",
    "for stock in stocks:\n",
    "    info = yf.Ticker(stock).info\n",
    "    div = info.get('trailingAnnualDividendYield')\n",
    "    if div:\n",
    "        div = round(div * 100, 1)\n",
    "    print(stock, div)"
   ]
  },
  {
   "cell_type": "code",
   "execution_count": 27,
   "metadata": {},
   "outputs": [
    {
     "name": "stdout",
     "output_type": "stream",
     "text": [
      "Q5) Stock 2222.SR (Saudi Arabian Oil Company) has the largest dividend yield, namely 4.6%\n"
     ]
    }
   ],
   "source": [
    "print(\"Q5) Stock 2222.SR (Saudi Arabian Oil Company) has the largest dividend yield, namely 4.6%\")"
   ]
  }
 ],
 "metadata": {
  "kernelspec": {
   "display_name": "Python 3",
   "language": "python",
   "name": "python3"
  },
  "language_info": {
   "codemirror_mode": {
    "name": "ipython",
    "version": 3
   },
   "file_extension": ".py",
   "mimetype": "text/x-python",
   "name": "python",
   "nbconvert_exporter": "python",
   "pygments_lexer": "ipython3",
   "version": "3.12.1"
  }
 },
 "nbformat": 4,
 "nbformat_minor": 2
}
