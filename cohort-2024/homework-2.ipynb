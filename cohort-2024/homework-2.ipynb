{
 "cells": [
  {
   "cell_type": "markdown",
   "metadata": {},
   "source": [
    "# Module 2 Homework"
   ]
  },
  {
   "cell_type": "markdown",
   "metadata": {},
   "source": [
    "## Import packages and set constants"
   ]
  },
  {
   "cell_type": "code",
   "execution_count": 1,
   "metadata": {},
   "outputs": [],
   "source": [
    "# IMPORTS\n",
    "import numpy as np\n",
    "import pandas as pd\n",
    "\n",
    "#Fin Data Sources\n",
    "import yfinance as yf\n",
    "import pandas_datareader as pdr\n",
    "\n",
    "#Data viz\n",
    "import plotly.graph_objs as go\n",
    "import plotly.express as px\n",
    "\n",
    "import time\n",
    "from datetime import date\n",
    "\n",
    "# for graphs\n",
    "import matplotlib.pyplot as plt\n",
    "\n",
    "import requests"
   ]
  },
  {
   "cell_type": "markdown",
   "metadata": {},
   "source": [
    "### Question 1: IPO Filings Web Scraping and Data Processing\n",
    "\n",
    "**What's the total sum ($m) of 2023 filings that happened on Fridays?**"
   ]
  },
  {
   "cell_type": "code",
   "execution_count": 11,
   "metadata": {},
   "outputs": [
    {
     "name": "stdout",
     "output_type": "stream",
     "text": [
      "<class 'pandas.core.frame.DataFrame'>\n",
      "RangeIndex: 330 entries, 0 to 329\n",
      "Data columns (total 5 columns):\n",
      " #   Column          Non-Null Count  Dtype \n",
      "---  ------          --------------  ----- \n",
      " 0   Filing Date     330 non-null    object\n",
      " 1   Symbol          330 non-null    object\n",
      " 2   Company Name    330 non-null    object\n",
      " 3   Price Range     330 non-null    object\n",
      " 4   Shares Offered  330 non-null    object\n",
      "dtypes: object(5)\n",
      "memory usage: 13.0+ KB\n"
     ]
    },
    {
     "name": "stderr",
     "output_type": "stream",
     "text": [
      "/tmp/ipykernel_672/2727273146.py:8: FutureWarning: Passing literal html to 'read_html' is deprecated and will be removed in a future version. To read from a literal string, wrap it in a 'StringIO' object.\n",
      "  ipos_filings = pd.read_html(response.text)\n"
     ]
    }
   ],
   "source": [
    "headers = {\n",
    "    'User-Agent': 'Mozilla/5.0 (Windows NT 10.0; Win64; x64) AppleWebKit/537.36 (KHTML, like Gecko) Chrome/58.0.3029.110 Safari/537.3',\n",
    "}\n",
    "\n",
    "url = \"https://stockanalysis.com/ipos/filings/\"\n",
    "response = requests.get(url, headers=headers)\n",
    "\n",
    "ipos_filings = pd.read_html(response.text)\n",
    "\n",
    "ipos_filings = ipos_filings[0]\n",
    "ipos_filings.info()"
   ]
  },
  {
   "cell_type": "code",
   "execution_count": 12,
   "metadata": {},
   "outputs": [],
   "source": [
    "# Convert to datetime\n",
    "ipos_filings[\"Filing Date\"] = pd.to_datetime(ipos_filings[\"Filing Date\"], format=\"%b %d, %Y\")"
   ]
  },
  {
   "cell_type": "code",
   "execution_count": 19,
   "metadata": {},
   "outputs": [],
   "source": [
    "data_types = {\n",
    "    \"Filing Date\": \"datetime64[ns]\",\n",
    "    \"Symbol\": \"string\",\n",
    "    \"Company Name\": \"string\",\n",
    "    \"Price Range\": \"string\",\n",
    "    \"Shares Offered\": \"float64\"\n",
    "}\n",
    "\n",
    "ipos_filings[\"Shares Offered\"] = ipos_filings[\"Shares Offered\"].replace(\"-\", np.NaN)\n",
    "\n",
    "ipos_filings = ipos_filings.astype(data_types)"
   ]
  },
  {
   "cell_type": "code",
   "execution_count": 20,
   "metadata": {},
   "outputs": [
    {
     "data": {
      "text/html": [
       "<div>\n",
       "<style scoped>\n",
       "    .dataframe tbody tr th:only-of-type {\n",
       "        vertical-align: middle;\n",
       "    }\n",
       "\n",
       "    .dataframe tbody tr th {\n",
       "        vertical-align: top;\n",
       "    }\n",
       "\n",
       "    .dataframe thead th {\n",
       "        text-align: right;\n",
       "    }\n",
       "</style>\n",
       "<table border=\"1\" class=\"dataframe\">\n",
       "  <thead>\n",
       "    <tr style=\"text-align: right;\">\n",
       "      <th></th>\n",
       "      <th>Filing Date</th>\n",
       "      <th>Symbol</th>\n",
       "      <th>Company Name</th>\n",
       "      <th>Price Range</th>\n",
       "      <th>Shares Offered</th>\n",
       "    </tr>\n",
       "  </thead>\n",
       "  <tbody>\n",
       "    <tr>\n",
       "      <th>0</th>\n",
       "      <td>2024-05-14</td>\n",
       "      <td>ICON</td>\n",
       "      <td>Icon Energy Corp.</td>\n",
       "      <td>$4.00 - $6.00</td>\n",
       "      <td>1250000.0</td>\n",
       "    </tr>\n",
       "    <tr>\n",
       "      <th>1</th>\n",
       "      <td>2024-05-13</td>\n",
       "      <td>FCHS</td>\n",
       "      <td>First Choice Healthcare Solutions, Inc.</td>\n",
       "      <td>$5.00</td>\n",
       "      <td>1200000.0</td>\n",
       "    </tr>\n",
       "    <tr>\n",
       "      <th>2</th>\n",
       "      <td>2024-05-13</td>\n",
       "      <td>KTA</td>\n",
       "      <td>Kingtitan Technology Limited</td>\n",
       "      <td>$4.00 - $6.00</td>\n",
       "      <td>3750000.0</td>\n",
       "    </tr>\n",
       "    <tr>\n",
       "      <th>3</th>\n",
       "      <td>2024-05-13</td>\n",
       "      <td>GALE</td>\n",
       "      <td>Galleinphi Inc.</td>\n",
       "      <td>$4.00 - $6.00</td>\n",
       "      <td>3000000.0</td>\n",
       "    </tr>\n",
       "    <tr>\n",
       "      <th>4</th>\n",
       "      <td>2024-05-13</td>\n",
       "      <td>CHEB</td>\n",
       "      <td>Chenghe Acquisition II Co.</td>\n",
       "      <td>$10.00</td>\n",
       "      <td>7500000.0</td>\n",
       "    </tr>\n",
       "  </tbody>\n",
       "</table>\n",
       "</div>"
      ],
      "text/plain": [
       "  Filing Date Symbol                             Company Name    Price Range  \\\n",
       "0  2024-05-14   ICON                        Icon Energy Corp.  $4.00 - $6.00   \n",
       "1  2024-05-13   FCHS  First Choice Healthcare Solutions, Inc.          $5.00   \n",
       "2  2024-05-13    KTA             Kingtitan Technology Limited  $4.00 - $6.00   \n",
       "3  2024-05-13   GALE                          Galleinphi Inc.  $4.00 - $6.00   \n",
       "4  2024-05-13   CHEB               Chenghe Acquisition II Co.         $10.00   \n",
       "\n",
       "   Shares Offered  \n",
       "0       1250000.0  \n",
       "1       1200000.0  \n",
       "2       3750000.0  \n",
       "3       3000000.0  \n",
       "4       7500000.0  "
      ]
     },
     "execution_count": 20,
     "metadata": {},
     "output_type": "execute_result"
    }
   ],
   "source": [
    "ipos_filings.head()"
   ]
  },
  {
   "cell_type": "code",
   "execution_count": 74,
   "metadata": {},
   "outputs": [],
   "source": [
    "import re\n",
    "\n",
    "def get_avg_price(input_string):\n",
    "    matches = re.findall(r'(\\d+.\\d+)', input_string)\n",
    "    avg_price = np.NaN\n",
    "    if len(matches) > 1:\n",
    "        avg_price = (float(matches[0]) + float(matches[1])) / 2\n",
    "    elif len(matches) == 1:\n",
    "        avg_price = float(matches[0])\n",
    "\n",
    "    return avg_price\n"
   ]
  },
  {
   "cell_type": "code",
   "execution_count": 77,
   "metadata": {},
   "outputs": [],
   "source": [
    "ipos_filings[\"Avg_price\"] = ipos_filings[\"Price Range\"].apply(lambda x: get_avg_price(x))"
   ]
  },
  {
   "cell_type": "code",
   "execution_count": 80,
   "metadata": {},
   "outputs": [],
   "source": [
    "ipos_filings[\"Shares_offered_value\"] = ipos_filings[\"Shares Offered\"] * ipos_filings[\"Avg_price\"]"
   ]
  },
  {
   "cell_type": "code",
   "execution_count": 85,
   "metadata": {},
   "outputs": [],
   "source": [
    "ipos_filings[\"Day_of_week\"] = ipos_filings[\"Filing Date\"].dt.dayofweek\n",
    "ipos_filings[\"Year\"] = ipos_filings[\"Filing Date\"].dt.year"
   ]
  },
  {
   "cell_type": "code",
   "execution_count": 91,
   "metadata": {},
   "outputs": [
    {
     "data": {
      "text/html": [
       "<div>\n",
       "<style scoped>\n",
       "    .dataframe tbody tr th:only-of-type {\n",
       "        vertical-align: middle;\n",
       "    }\n",
       "\n",
       "    .dataframe tbody tr th {\n",
       "        vertical-align: top;\n",
       "    }\n",
       "\n",
       "    .dataframe thead th {\n",
       "        text-align: right;\n",
       "    }\n",
       "</style>\n",
       "<table border=\"1\" class=\"dataframe\">\n",
       "  <thead>\n",
       "    <tr style=\"text-align: right;\">\n",
       "      <th></th>\n",
       "      <th>Filing Date</th>\n",
       "      <th>Symbol</th>\n",
       "      <th>Company Name</th>\n",
       "      <th>Price Range</th>\n",
       "      <th>Shares Offered</th>\n",
       "      <th>Avg Price</th>\n",
       "      <th>Avg_price</th>\n",
       "      <th>Shares_offered_value</th>\n",
       "      <th>Day_of_week</th>\n",
       "      <th>Year</th>\n",
       "    </tr>\n",
       "  </thead>\n",
       "  <tbody>\n",
       "    <tr>\n",
       "      <th>0</th>\n",
       "      <td>2024-05-14</td>\n",
       "      <td>ICON</td>\n",
       "      <td>Icon Energy Corp.</td>\n",
       "      <td>$4.00 - $6.00</td>\n",
       "      <td>1250000.0</td>\n",
       "      <td>5.0</td>\n",
       "      <td>5.0</td>\n",
       "      <td>6250000.0</td>\n",
       "      <td>1</td>\n",
       "      <td>2024</td>\n",
       "    </tr>\n",
       "    <tr>\n",
       "      <th>1</th>\n",
       "      <td>2024-05-13</td>\n",
       "      <td>FCHS</td>\n",
       "      <td>First Choice Healthcare Solutions, Inc.</td>\n",
       "      <td>$5.00</td>\n",
       "      <td>1200000.0</td>\n",
       "      <td>5.0</td>\n",
       "      <td>5.0</td>\n",
       "      <td>6000000.0</td>\n",
       "      <td>0</td>\n",
       "      <td>2024</td>\n",
       "    </tr>\n",
       "    <tr>\n",
       "      <th>2</th>\n",
       "      <td>2024-05-13</td>\n",
       "      <td>KTA</td>\n",
       "      <td>Kingtitan Technology Limited</td>\n",
       "      <td>$4.00 - $6.00</td>\n",
       "      <td>3750000.0</td>\n",
       "      <td>5.0</td>\n",
       "      <td>5.0</td>\n",
       "      <td>18750000.0</td>\n",
       "      <td>0</td>\n",
       "      <td>2024</td>\n",
       "    </tr>\n",
       "    <tr>\n",
       "      <th>3</th>\n",
       "      <td>2024-05-13</td>\n",
       "      <td>GALE</td>\n",
       "      <td>Galleinphi Inc.</td>\n",
       "      <td>$4.00 - $6.00</td>\n",
       "      <td>3000000.0</td>\n",
       "      <td>5.0</td>\n",
       "      <td>5.0</td>\n",
       "      <td>15000000.0</td>\n",
       "      <td>0</td>\n",
       "      <td>2024</td>\n",
       "    </tr>\n",
       "    <tr>\n",
       "      <th>4</th>\n",
       "      <td>2024-05-13</td>\n",
       "      <td>CHEB</td>\n",
       "      <td>Chenghe Acquisition II Co.</td>\n",
       "      <td>$10.00</td>\n",
       "      <td>7500000.0</td>\n",
       "      <td>10.0</td>\n",
       "      <td>10.0</td>\n",
       "      <td>75000000.0</td>\n",
       "      <td>0</td>\n",
       "      <td>2024</td>\n",
       "    </tr>\n",
       "  </tbody>\n",
       "</table>\n",
       "</div>"
      ],
      "text/plain": [
       "  Filing Date Symbol                             Company Name    Price Range  \\\n",
       "0  2024-05-14   ICON                        Icon Energy Corp.  $4.00 - $6.00   \n",
       "1  2024-05-13   FCHS  First Choice Healthcare Solutions, Inc.          $5.00   \n",
       "2  2024-05-13    KTA             Kingtitan Technology Limited  $4.00 - $6.00   \n",
       "3  2024-05-13   GALE                          Galleinphi Inc.  $4.00 - $6.00   \n",
       "4  2024-05-13   CHEB               Chenghe Acquisition II Co.         $10.00   \n",
       "\n",
       "   Shares Offered  Avg Price  Avg_price  Shares_offered_value  Day_of_week  \\\n",
       "0       1250000.0        5.0        5.0             6250000.0            1   \n",
       "1       1200000.0        5.0        5.0             6000000.0            0   \n",
       "2       3750000.0        5.0        5.0            18750000.0            0   \n",
       "3       3000000.0        5.0        5.0            15000000.0            0   \n",
       "4       7500000.0       10.0       10.0            75000000.0            0   \n",
       "\n",
       "   Year  \n",
       "0  2024  \n",
       "1  2024  \n",
       "2  2024  \n",
       "3  2024  \n",
       "4  2024  "
      ]
     },
     "execution_count": 91,
     "metadata": {},
     "output_type": "execute_result"
    }
   ],
   "source": [
    "ipos_filings.head()"
   ]
  },
  {
   "cell_type": "code",
   "execution_count": 90,
   "metadata": {},
   "outputs": [
    {
     "data": {
      "text/plain": [
       "281325000.0"
      ]
     },
     "execution_count": 90,
     "metadata": {},
     "output_type": "execute_result"
    }
   ],
   "source": [
    "ipos_filings[(ipos_filings[\"Year\"]==2023) & (ipos_filings[\"Day_of_week\"]==4)][\"Shares_offered_value\"].sum()"
   ]
  }
 ],
 "metadata": {
  "kernelspec": {
   "display_name": "Python 3",
   "language": "python",
   "name": "python3"
  },
  "language_info": {
   "codemirror_mode": {
    "name": "ipython",
    "version": 3
   },
   "file_extension": ".py",
   "mimetype": "text/x-python",
   "name": "python",
   "nbconvert_exporter": "python",
   "pygments_lexer": "ipython3",
   "version": "3.12.1"
  }
 },
 "nbformat": 4,
 "nbformat_minor": 2
}
