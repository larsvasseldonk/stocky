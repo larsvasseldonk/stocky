{
 "cells": [
  {
   "cell_type": "markdown",
   "metadata": {},
   "source": [
    "# Module 2 Homework"
   ]
  },
  {
   "cell_type": "markdown",
   "metadata": {},
   "source": [
    "## Import packages and set constants"
   ]
  },
  {
   "cell_type": "code",
   "execution_count": 1,
   "metadata": {},
   "outputs": [],
   "source": [
    "# IMPORTS\n",
    "import numpy as np\n",
    "import pandas as pd\n",
    "\n",
    "#Fin Data Sources\n",
    "import yfinance as yf\n",
    "import pandas_datareader as pdr\n",
    "\n",
    "#Data viz\n",
    "import plotly.graph_objs as go\n",
    "import plotly.express as px\n",
    "\n",
    "import time\n",
    "from datetime import date\n",
    "\n",
    "# for graphs\n",
    "import matplotlib.pyplot as plt\n",
    "\n",
    "import requests"
   ]
  },
  {
   "cell_type": "markdown",
   "metadata": {},
   "source": [
    "### Question 1: IPO Filings Web Scraping and Data Processing\n",
    "\n",
    "**What's the total sum ($m) of 2023 filings that happened on Fridays?**"
   ]
  },
  {
   "cell_type": "code",
   "execution_count": 2,
   "metadata": {},
   "outputs": [
    {
     "name": "stdout",
     "output_type": "stream",
     "text": [
      "<class 'pandas.core.frame.DataFrame'>\n",
      "RangeIndex: 330 entries, 0 to 329\n",
      "Data columns (total 5 columns):\n",
      " #   Column          Non-Null Count  Dtype \n",
      "---  ------          --------------  ----- \n",
      " 0   Filing Date     330 non-null    object\n",
      " 1   Symbol          330 non-null    object\n",
      " 2   Company Name    330 non-null    object\n",
      " 3   Price Range     330 non-null    object\n",
      " 4   Shares Offered  330 non-null    object\n",
      "dtypes: object(5)\n",
      "memory usage: 13.0+ KB\n"
     ]
    },
    {
     "name": "stderr",
     "output_type": "stream",
     "text": [
      "/tmp/ipykernel_535/2727273146.py:8: FutureWarning: Passing literal html to 'read_html' is deprecated and will be removed in a future version. To read from a literal string, wrap it in a 'StringIO' object.\n",
      "  ipos_filings = pd.read_html(response.text)\n"
     ]
    }
   ],
   "source": [
    "headers = {\n",
    "    'User-Agent': 'Mozilla/5.0 (Windows NT 10.0; Win64; x64) AppleWebKit/537.36 (KHTML, like Gecko) Chrome/58.0.3029.110 Safari/537.3',\n",
    "}\n",
    "\n",
    "url = \"https://stockanalysis.com/ipos/filings/\"\n",
    "response = requests.get(url, headers=headers)\n",
    "\n",
    "ipos_filings = pd.read_html(response.text)\n",
    "\n",
    "ipos_filings = ipos_filings[0]\n",
    "ipos_filings.info()"
   ]
  },
  {
   "cell_type": "code",
   "execution_count": 3,
   "metadata": {},
   "outputs": [],
   "source": [
    "# Convert to datetime\n",
    "ipos_filings[\"Filing Date\"] = pd.to_datetime(ipos_filings[\"Filing Date\"], format=\"%b %d, %Y\")"
   ]
  },
  {
   "cell_type": "code",
   "execution_count": 4,
   "metadata": {},
   "outputs": [],
   "source": [
    "data_types = {\n",
    "    \"Filing Date\": \"datetime64[ns]\",\n",
    "    \"Symbol\": \"string\",\n",
    "    \"Company Name\": \"string\",\n",
    "    \"Price Range\": \"string\",\n",
    "    \"Shares Offered\": \"float64\"\n",
    "}\n",
    "\n",
    "ipos_filings[\"Shares Offered\"] = ipos_filings[\"Shares Offered\"].replace(\"-\", np.NaN)\n",
    "\n",
    "ipos_filings = ipos_filings.astype(data_types)"
   ]
  },
  {
   "cell_type": "code",
   "execution_count": 5,
   "metadata": {},
   "outputs": [
    {
     "data": {
      "text/html": [
       "<div>\n",
       "<style scoped>\n",
       "    .dataframe tbody tr th:only-of-type {\n",
       "        vertical-align: middle;\n",
       "    }\n",
       "\n",
       "    .dataframe tbody tr th {\n",
       "        vertical-align: top;\n",
       "    }\n",
       "\n",
       "    .dataframe thead th {\n",
       "        text-align: right;\n",
       "    }\n",
       "</style>\n",
       "<table border=\"1\" class=\"dataframe\">\n",
       "  <thead>\n",
       "    <tr style=\"text-align: right;\">\n",
       "      <th></th>\n",
       "      <th>Filing Date</th>\n",
       "      <th>Symbol</th>\n",
       "      <th>Company Name</th>\n",
       "      <th>Price Range</th>\n",
       "      <th>Shares Offered</th>\n",
       "    </tr>\n",
       "  </thead>\n",
       "  <tbody>\n",
       "    <tr>\n",
       "      <th>0</th>\n",
       "      <td>2024-05-14</td>\n",
       "      <td>ICON</td>\n",
       "      <td>Icon Energy Corp.</td>\n",
       "      <td>$4.00 - $6.00</td>\n",
       "      <td>1250000.0</td>\n",
       "    </tr>\n",
       "    <tr>\n",
       "      <th>1</th>\n",
       "      <td>2024-05-13</td>\n",
       "      <td>FCHS</td>\n",
       "      <td>First Choice Healthcare Solutions, Inc.</td>\n",
       "      <td>$5.00</td>\n",
       "      <td>1200000.0</td>\n",
       "    </tr>\n",
       "    <tr>\n",
       "      <th>2</th>\n",
       "      <td>2024-05-13</td>\n",
       "      <td>KTA</td>\n",
       "      <td>Kingtitan Technology Limited</td>\n",
       "      <td>$4.00 - $6.00</td>\n",
       "      <td>3750000.0</td>\n",
       "    </tr>\n",
       "    <tr>\n",
       "      <th>3</th>\n",
       "      <td>2024-05-13</td>\n",
       "      <td>GALE</td>\n",
       "      <td>Galleinphi Inc.</td>\n",
       "      <td>$4.00 - $6.00</td>\n",
       "      <td>3000000.0</td>\n",
       "    </tr>\n",
       "    <tr>\n",
       "      <th>4</th>\n",
       "      <td>2024-05-13</td>\n",
       "      <td>CHEB</td>\n",
       "      <td>Chenghe Acquisition II Co.</td>\n",
       "      <td>$10.00</td>\n",
       "      <td>7500000.0</td>\n",
       "    </tr>\n",
       "  </tbody>\n",
       "</table>\n",
       "</div>"
      ],
      "text/plain": [
       "  Filing Date Symbol                             Company Name    Price Range  \\\n",
       "0  2024-05-14   ICON                        Icon Energy Corp.  $4.00 - $6.00   \n",
       "1  2024-05-13   FCHS  First Choice Healthcare Solutions, Inc.          $5.00   \n",
       "2  2024-05-13    KTA             Kingtitan Technology Limited  $4.00 - $6.00   \n",
       "3  2024-05-13   GALE                          Galleinphi Inc.  $4.00 - $6.00   \n",
       "4  2024-05-13   CHEB               Chenghe Acquisition II Co.         $10.00   \n",
       "\n",
       "   Shares Offered  \n",
       "0       1250000.0  \n",
       "1       1200000.0  \n",
       "2       3750000.0  \n",
       "3       3000000.0  \n",
       "4       7500000.0  "
      ]
     },
     "execution_count": 5,
     "metadata": {},
     "output_type": "execute_result"
    }
   ],
   "source": [
    "ipos_filings.head()"
   ]
  },
  {
   "cell_type": "code",
   "execution_count": 6,
   "metadata": {},
   "outputs": [],
   "source": [
    "import re\n",
    "\n",
    "def get_avg_price(input_string):\n",
    "    matches = re.findall(r'(\\d+.\\d+)', input_string)\n",
    "    avg_price = np.NaN\n",
    "    if len(matches) > 1:\n",
    "        avg_price = (float(matches[0]) + float(matches[1])) / 2\n",
    "    elif len(matches) == 1:\n",
    "        avg_price = float(matches[0])\n",
    "\n",
    "    return avg_price\n"
   ]
  },
  {
   "cell_type": "code",
   "execution_count": 7,
   "metadata": {},
   "outputs": [],
   "source": [
    "ipos_filings[\"Avg_price\"] = ipos_filings[\"Price Range\"].apply(lambda x: get_avg_price(x))"
   ]
  },
  {
   "cell_type": "code",
   "execution_count": 8,
   "metadata": {},
   "outputs": [],
   "source": [
    "ipos_filings[\"Shares_offered_value\"] = ipos_filings[\"Shares Offered\"] * ipos_filings[\"Avg_price\"]"
   ]
  },
  {
   "cell_type": "code",
   "execution_count": 9,
   "metadata": {},
   "outputs": [],
   "source": [
    "ipos_filings[\"Day_of_week\"] = ipos_filings[\"Filing Date\"].dt.dayofweek\n",
    "ipos_filings[\"Year\"] = ipos_filings[\"Filing Date\"].dt.year"
   ]
  },
  {
   "cell_type": "code",
   "execution_count": 10,
   "metadata": {},
   "outputs": [
    {
     "data": {
      "text/html": [
       "<div>\n",
       "<style scoped>\n",
       "    .dataframe tbody tr th:only-of-type {\n",
       "        vertical-align: middle;\n",
       "    }\n",
       "\n",
       "    .dataframe tbody tr th {\n",
       "        vertical-align: top;\n",
       "    }\n",
       "\n",
       "    .dataframe thead th {\n",
       "        text-align: right;\n",
       "    }\n",
       "</style>\n",
       "<table border=\"1\" class=\"dataframe\">\n",
       "  <thead>\n",
       "    <tr style=\"text-align: right;\">\n",
       "      <th></th>\n",
       "      <th>Filing Date</th>\n",
       "      <th>Symbol</th>\n",
       "      <th>Company Name</th>\n",
       "      <th>Price Range</th>\n",
       "      <th>Shares Offered</th>\n",
       "      <th>Avg_price</th>\n",
       "      <th>Shares_offered_value</th>\n",
       "      <th>Day_of_week</th>\n",
       "      <th>Year</th>\n",
       "    </tr>\n",
       "  </thead>\n",
       "  <tbody>\n",
       "    <tr>\n",
       "      <th>0</th>\n",
       "      <td>2024-05-14</td>\n",
       "      <td>ICON</td>\n",
       "      <td>Icon Energy Corp.</td>\n",
       "      <td>$4.00 - $6.00</td>\n",
       "      <td>1250000.0</td>\n",
       "      <td>5.00</td>\n",
       "      <td>6250000.0</td>\n",
       "      <td>1</td>\n",
       "      <td>2024</td>\n",
       "    </tr>\n",
       "    <tr>\n",
       "      <th>1</th>\n",
       "      <td>2024-05-13</td>\n",
       "      <td>FCHS</td>\n",
       "      <td>First Choice Healthcare Solutions, Inc.</td>\n",
       "      <td>$5.00</td>\n",
       "      <td>1200000.0</td>\n",
       "      <td>5.00</td>\n",
       "      <td>6000000.0</td>\n",
       "      <td>0</td>\n",
       "      <td>2024</td>\n",
       "    </tr>\n",
       "    <tr>\n",
       "      <th>2</th>\n",
       "      <td>2024-05-13</td>\n",
       "      <td>KTA</td>\n",
       "      <td>Kingtitan Technology Limited</td>\n",
       "      <td>$4.00 - $6.00</td>\n",
       "      <td>3750000.0</td>\n",
       "      <td>5.00</td>\n",
       "      <td>18750000.0</td>\n",
       "      <td>0</td>\n",
       "      <td>2024</td>\n",
       "    </tr>\n",
       "    <tr>\n",
       "      <th>3</th>\n",
       "      <td>2024-05-13</td>\n",
       "      <td>GALE</td>\n",
       "      <td>Galleinphi Inc.</td>\n",
       "      <td>$4.00 - $6.00</td>\n",
       "      <td>3000000.0</td>\n",
       "      <td>5.00</td>\n",
       "      <td>15000000.0</td>\n",
       "      <td>0</td>\n",
       "      <td>2024</td>\n",
       "    </tr>\n",
       "    <tr>\n",
       "      <th>4</th>\n",
       "      <td>2024-05-13</td>\n",
       "      <td>CHEB</td>\n",
       "      <td>Chenghe Acquisition II Co.</td>\n",
       "      <td>$10.00</td>\n",
       "      <td>7500000.0</td>\n",
       "      <td>10.00</td>\n",
       "      <td>75000000.0</td>\n",
       "      <td>0</td>\n",
       "      <td>2024</td>\n",
       "    </tr>\n",
       "    <tr>\n",
       "      <th>...</th>\n",
       "      <td>...</td>\n",
       "      <td>...</td>\n",
       "      <td>...</td>\n",
       "      <td>...</td>\n",
       "      <td>...</td>\n",
       "      <td>...</td>\n",
       "      <td>...</td>\n",
       "      <td>...</td>\n",
       "      <td>...</td>\n",
       "    </tr>\n",
       "    <tr>\n",
       "      <th>325</th>\n",
       "      <td>2020-01-21</td>\n",
       "      <td>GOXS</td>\n",
       "      <td>Goxus, Inc.</td>\n",
       "      <td>$8.00 - $10.00</td>\n",
       "      <td>1500000.0</td>\n",
       "      <td>9.00</td>\n",
       "      <td>13500000.0</td>\n",
       "      <td>1</td>\n",
       "      <td>2020</td>\n",
       "    </tr>\n",
       "    <tr>\n",
       "      <th>326</th>\n",
       "      <td>2020-01-21</td>\n",
       "      <td>UTXO</td>\n",
       "      <td>UTXO Acquisition, Inc.</td>\n",
       "      <td>$10.00</td>\n",
       "      <td>5000000.0</td>\n",
       "      <td>10.00</td>\n",
       "      <td>50000000.0</td>\n",
       "      <td>1</td>\n",
       "      <td>2020</td>\n",
       "    </tr>\n",
       "    <tr>\n",
       "      <th>327</th>\n",
       "      <td>2019-12-09</td>\n",
       "      <td>LOHA</td>\n",
       "      <td>Loha Co. Ltd</td>\n",
       "      <td>$8.00 - $10.00</td>\n",
       "      <td>2500000.0</td>\n",
       "      <td>9.00</td>\n",
       "      <td>22500000.0</td>\n",
       "      <td>0</td>\n",
       "      <td>2019</td>\n",
       "    </tr>\n",
       "    <tr>\n",
       "      <th>328</th>\n",
       "      <td>2019-10-04</td>\n",
       "      <td>ZGHB</td>\n",
       "      <td>China Eco-Materials Group Co. Limited</td>\n",
       "      <td>$4.00</td>\n",
       "      <td>4300000.0</td>\n",
       "      <td>4.00</td>\n",
       "      <td>17200000.0</td>\n",
       "      <td>4</td>\n",
       "      <td>2019</td>\n",
       "    </tr>\n",
       "    <tr>\n",
       "      <th>329</th>\n",
       "      <td>2018-12-27</td>\n",
       "      <td>FBOX</td>\n",
       "      <td>Fit Boxx Holdings Limited</td>\n",
       "      <td>$5.00 - $6.50</td>\n",
       "      <td>2000000.0</td>\n",
       "      <td>5.75</td>\n",
       "      <td>11500000.0</td>\n",
       "      <td>3</td>\n",
       "      <td>2018</td>\n",
       "    </tr>\n",
       "  </tbody>\n",
       "</table>\n",
       "<p>330 rows × 9 columns</p>\n",
       "</div>"
      ],
      "text/plain": [
       "    Filing Date Symbol                             Company Name  \\\n",
       "0    2024-05-14   ICON                        Icon Energy Corp.   \n",
       "1    2024-05-13   FCHS  First Choice Healthcare Solutions, Inc.   \n",
       "2    2024-05-13    KTA             Kingtitan Technology Limited   \n",
       "3    2024-05-13   GALE                          Galleinphi Inc.   \n",
       "4    2024-05-13   CHEB               Chenghe Acquisition II Co.   \n",
       "..          ...    ...                                      ...   \n",
       "325  2020-01-21   GOXS                              Goxus, Inc.   \n",
       "326  2020-01-21   UTXO                   UTXO Acquisition, Inc.   \n",
       "327  2019-12-09   LOHA                             Loha Co. Ltd   \n",
       "328  2019-10-04   ZGHB    China Eco-Materials Group Co. Limited   \n",
       "329  2018-12-27   FBOX                Fit Boxx Holdings Limited   \n",
       "\n",
       "        Price Range  Shares Offered  Avg_price  Shares_offered_value  \\\n",
       "0     $4.00 - $6.00       1250000.0       5.00             6250000.0   \n",
       "1             $5.00       1200000.0       5.00             6000000.0   \n",
       "2     $4.00 - $6.00       3750000.0       5.00            18750000.0   \n",
       "3     $4.00 - $6.00       3000000.0       5.00            15000000.0   \n",
       "4            $10.00       7500000.0      10.00            75000000.0   \n",
       "..              ...             ...        ...                   ...   \n",
       "325  $8.00 - $10.00       1500000.0       9.00            13500000.0   \n",
       "326          $10.00       5000000.0      10.00            50000000.0   \n",
       "327  $8.00 - $10.00       2500000.0       9.00            22500000.0   \n",
       "328           $4.00       4300000.0       4.00            17200000.0   \n",
       "329   $5.00 - $6.50       2000000.0       5.75            11500000.0   \n",
       "\n",
       "     Day_of_week  Year  \n",
       "0              1  2024  \n",
       "1              0  2024  \n",
       "2              0  2024  \n",
       "3              0  2024  \n",
       "4              0  2024  \n",
       "..           ...   ...  \n",
       "325            1  2020  \n",
       "326            1  2020  \n",
       "327            0  2019  \n",
       "328            4  2019  \n",
       "329            3  2018  \n",
       "\n",
       "[330 rows x 9 columns]"
      ]
     },
     "execution_count": 10,
     "metadata": {},
     "output_type": "execute_result"
    }
   ],
   "source": [
    "ipos_filings"
   ]
  },
  {
   "cell_type": "code",
   "execution_count": 90,
   "metadata": {},
   "outputs": [
    {
     "data": {
      "text/plain": [
       "281325000.0"
      ]
     },
     "execution_count": 90,
     "metadata": {},
     "output_type": "execute_result"
    }
   ],
   "source": [
    "ipos_filings[(ipos_filings[\"Year\"]==2023) & (ipos_filings[\"Day_of_week\"]==4)][\"Shares_offered_value\"].sum()"
   ]
  },
  {
   "cell_type": "markdown",
   "metadata": {},
   "source": [
    "### Question 2:  IPOs \"Fixed days hold\" strategy\n",
    "\n",
    "**Find the optimal number of days X (between 1 and 30), where 75% quantile growth is the highest?**"
   ]
  },
  {
   "cell_type": "code",
   "execution_count": 17,
   "metadata": {},
   "outputs": [],
   "source": [
    "def read_ipos_url(url: str, headers: dict) -> pd.DataFrame:\n",
    "\n",
    "    response = requests.get(url, headers=headers)\n",
    "    ipo_dfs = pd.read_html(response.text)\n",
    "\n",
    "    return ipo_dfs[0]\n"
   ]
  },
  {
   "cell_type": "code",
   "execution_count": 22,
   "metadata": {},
   "outputs": [
    {
     "name": "stderr",
     "output_type": "stream",
     "text": [
      "/tmp/ipykernel_535/3982203942.py:4: FutureWarning: Passing literal html to 'read_html' is deprecated and will be removed in a future version. To read from a literal string, wrap it in a 'StringIO' object.\n",
      "  ipo_dfs = pd.read_html(response.text)\n",
      "/tmp/ipykernel_535/3982203942.py:4: FutureWarning: Passing literal html to 'read_html' is deprecated and will be removed in a future version. To read from a literal string, wrap it in a 'StringIO' object.\n",
      "  ipo_dfs = pd.read_html(response.text)\n"
     ]
    },
    {
     "data": {
      "text/html": [
       "<div>\n",
       "<style scoped>\n",
       "    .dataframe tbody tr th:only-of-type {\n",
       "        vertical-align: middle;\n",
       "    }\n",
       "\n",
       "    .dataframe tbody tr th {\n",
       "        vertical-align: top;\n",
       "    }\n",
       "\n",
       "    .dataframe thead th {\n",
       "        text-align: right;\n",
       "    }\n",
       "</style>\n",
       "<table border=\"1\" class=\"dataframe\">\n",
       "  <thead>\n",
       "    <tr style=\"text-align: right;\">\n",
       "      <th></th>\n",
       "      <th>IPO Date</th>\n",
       "      <th>Symbol</th>\n",
       "      <th>Company Name</th>\n",
       "      <th>IPO Price</th>\n",
       "      <th>Current</th>\n",
       "      <th>Return</th>\n",
       "    </tr>\n",
       "  </thead>\n",
       "  <tbody>\n",
       "    <tr>\n",
       "      <th>0</th>\n",
       "      <td>2023-12-27</td>\n",
       "      <td>IROH</td>\n",
       "      <td>Iron Horse Acquisitions Corp.</td>\n",
       "      <td>$10.00</td>\n",
       "      <td>$10.05</td>\n",
       "      <td>0.50%</td>\n",
       "    </tr>\n",
       "    <tr>\n",
       "      <th>1</th>\n",
       "      <td>2023-12-19</td>\n",
       "      <td>LGCB</td>\n",
       "      <td>Linkage Global Inc</td>\n",
       "      <td>$4.00</td>\n",
       "      <td>$3.10</td>\n",
       "      <td>-22.50%</td>\n",
       "    </tr>\n",
       "    <tr>\n",
       "      <th>2</th>\n",
       "      <td>2023-12-15</td>\n",
       "      <td>ZKH</td>\n",
       "      <td>ZKH Group Limited</td>\n",
       "      <td>$15.50</td>\n",
       "      <td>$12.08</td>\n",
       "      <td>-22.06%</td>\n",
       "    </tr>\n",
       "    <tr>\n",
       "      <th>3</th>\n",
       "      <td>2023-12-15</td>\n",
       "      <td>BAYA</td>\n",
       "      <td>Bayview Acquisition Corp</td>\n",
       "      <td>$10.00</td>\n",
       "      <td>$10.18</td>\n",
       "      <td>1.80%</td>\n",
       "    </tr>\n",
       "    <tr>\n",
       "      <th>4</th>\n",
       "      <td>2023-12-14</td>\n",
       "      <td>INHD</td>\n",
       "      <td>Inno Holdings Inc.</td>\n",
       "      <td>$4.00</td>\n",
       "      <td>$0.56</td>\n",
       "      <td>-86.11%</td>\n",
       "    </tr>\n",
       "  </tbody>\n",
       "</table>\n",
       "</div>"
      ],
      "text/plain": [
       "    IPO Date Symbol                   Company Name IPO Price Current   Return\n",
       "0 2023-12-27   IROH  Iron Horse Acquisitions Corp.    $10.00  $10.05    0.50%\n",
       "1 2023-12-19   LGCB             Linkage Global Inc     $4.00   $3.10  -22.50%\n",
       "2 2023-12-15    ZKH              ZKH Group Limited    $15.50  $12.08  -22.06%\n",
       "3 2023-12-15   BAYA       Bayview Acquisition Corp    $10.00  $10.18    1.80%\n",
       "4 2023-12-14   INHD             Inno Holdings Inc.     $4.00   $0.56  -86.11%"
      ]
     },
     "execution_count": 22,
     "metadata": {},
     "output_type": "execute_result"
    }
   ],
   "source": [
    "# Read IPOs\n",
    "# 2023\n",
    "ipos_2023 = read_ipos_url(\"https://stockanalysis.com/ipos/2023/\", headers)\n",
    "# 2024\n",
    "ipos_2024 = read_ipos_url(\"https://stockanalysis.com/ipos/2024/\", headers)\n",
    "\n",
    "# Combine dataframes\n",
    "ipos = pd.concat([ipos_2023, ipos_2024])\n",
    "# Convert to datetime\n",
    "ipos[\"IPO Date\"] = pd.to_datetime(ipos[\"IPO Date\"], format=\"%b %d, %Y\")\n",
    "# Show first rows\n",
    "ipos.head()"
   ]
  },
  {
   "cell_type": "code",
   "execution_count": 20,
   "metadata": {},
   "outputs": [
    {
     "data": {
      "text/html": [
       "<div>\n",
       "<style scoped>\n",
       "    .dataframe tbody tr th:only-of-type {\n",
       "        vertical-align: middle;\n",
       "    }\n",
       "\n",
       "    .dataframe tbody tr th {\n",
       "        vertical-align: top;\n",
       "    }\n",
       "\n",
       "    .dataframe thead th {\n",
       "        text-align: right;\n",
       "    }\n",
       "</style>\n",
       "<table border=\"1\" class=\"dataframe\">\n",
       "  <thead>\n",
       "    <tr style=\"text-align: right;\">\n",
       "      <th></th>\n",
       "      <th>IPO Date</th>\n",
       "      <th>Symbol</th>\n",
       "      <th>Company Name</th>\n",
       "      <th>IPO Price</th>\n",
       "      <th>Current</th>\n",
       "      <th>Return</th>\n",
       "    </tr>\n",
       "  </thead>\n",
       "  <tbody>\n",
       "    <tr>\n",
       "      <th>0</th>\n",
       "      <td>Dec 27, 2023</td>\n",
       "      <td>IROH</td>\n",
       "      <td>Iron Horse Acquisitions Corp.</td>\n",
       "      <td>$10.00</td>\n",
       "      <td>$10.05</td>\n",
       "      <td>0.50%</td>\n",
       "    </tr>\n",
       "    <tr>\n",
       "      <th>1</th>\n",
       "      <td>Dec 19, 2023</td>\n",
       "      <td>LGCB</td>\n",
       "      <td>Linkage Global Inc</td>\n",
       "      <td>$4.00</td>\n",
       "      <td>$3.10</td>\n",
       "      <td>-22.50%</td>\n",
       "    </tr>\n",
       "    <tr>\n",
       "      <th>2</th>\n",
       "      <td>Dec 15, 2023</td>\n",
       "      <td>ZKH</td>\n",
       "      <td>ZKH Group Limited</td>\n",
       "      <td>$15.50</td>\n",
       "      <td>$12.08</td>\n",
       "      <td>-22.06%</td>\n",
       "    </tr>\n",
       "    <tr>\n",
       "      <th>3</th>\n",
       "      <td>Dec 15, 2023</td>\n",
       "      <td>BAYA</td>\n",
       "      <td>Bayview Acquisition Corp</td>\n",
       "      <td>$10.00</td>\n",
       "      <td>$10.18</td>\n",
       "      <td>1.80%</td>\n",
       "    </tr>\n",
       "    <tr>\n",
       "      <th>4</th>\n",
       "      <td>Dec 14, 2023</td>\n",
       "      <td>INHD</td>\n",
       "      <td>Inno Holdings Inc.</td>\n",
       "      <td>$4.00</td>\n",
       "      <td>$0.56</td>\n",
       "      <td>-86.11%</td>\n",
       "    </tr>\n",
       "    <tr>\n",
       "      <th>...</th>\n",
       "      <td>...</td>\n",
       "      <td>...</td>\n",
       "      <td>...</td>\n",
       "      <td>...</td>\n",
       "      <td>...</td>\n",
       "      <td>...</td>\n",
       "    </tr>\n",
       "    <tr>\n",
       "      <th>67</th>\n",
       "      <td>Jan 18, 2024</td>\n",
       "      <td>PSBD</td>\n",
       "      <td>Palmer Square Capital BDC Inc.</td>\n",
       "      <td>$16.45</td>\n",
       "      <td>$16.80</td>\n",
       "      <td>2.13%</td>\n",
       "    </tr>\n",
       "    <tr>\n",
       "      <th>68</th>\n",
       "      <td>Jan 18, 2024</td>\n",
       "      <td>CCTG</td>\n",
       "      <td>CCSC Technology International Holdings Limited</td>\n",
       "      <td>$6.00</td>\n",
       "      <td>$2.43</td>\n",
       "      <td>-59.50%</td>\n",
       "    </tr>\n",
       "    <tr>\n",
       "      <th>69</th>\n",
       "      <td>Jan 12, 2024</td>\n",
       "      <td>SYNX</td>\n",
       "      <td>Silynxcom Ltd.</td>\n",
       "      <td>$4.00</td>\n",
       "      <td>$2.74</td>\n",
       "      <td>-31.50%</td>\n",
       "    </tr>\n",
       "    <tr>\n",
       "      <th>70</th>\n",
       "      <td>Jan 11, 2024</td>\n",
       "      <td>SDHC</td>\n",
       "      <td>Smith Douglas Homes Corp.</td>\n",
       "      <td>$21.00</td>\n",
       "      <td>$28.60</td>\n",
       "      <td>36.19%</td>\n",
       "    </tr>\n",
       "    <tr>\n",
       "      <th>71</th>\n",
       "      <td>Jan 9, 2024</td>\n",
       "      <td>ROMA</td>\n",
       "      <td>Roma Green Finance Limited</td>\n",
       "      <td>$4.00</td>\n",
       "      <td>$0.71</td>\n",
       "      <td>-82.38%</td>\n",
       "    </tr>\n",
       "  </tbody>\n",
       "</table>\n",
       "<p>226 rows × 6 columns</p>\n",
       "</div>"
      ],
      "text/plain": [
       "        IPO Date Symbol                                    Company Name  \\\n",
       "0   Dec 27, 2023   IROH                   Iron Horse Acquisitions Corp.   \n",
       "1   Dec 19, 2023   LGCB                              Linkage Global Inc   \n",
       "2   Dec 15, 2023    ZKH                               ZKH Group Limited   \n",
       "3   Dec 15, 2023   BAYA                        Bayview Acquisition Corp   \n",
       "4   Dec 14, 2023   INHD                              Inno Holdings Inc.   \n",
       "..           ...    ...                                             ...   \n",
       "67  Jan 18, 2024   PSBD                  Palmer Square Capital BDC Inc.   \n",
       "68  Jan 18, 2024   CCTG  CCSC Technology International Holdings Limited   \n",
       "69  Jan 12, 2024   SYNX                                  Silynxcom Ltd.   \n",
       "70  Jan 11, 2024   SDHC                       Smith Douglas Homes Corp.   \n",
       "71   Jan 9, 2024   ROMA                      Roma Green Finance Limited   \n",
       "\n",
       "   IPO Price Current   Return  \n",
       "0     $10.00  $10.05    0.50%  \n",
       "1      $4.00   $3.10  -22.50%  \n",
       "2     $15.50  $12.08  -22.06%  \n",
       "3     $10.00  $10.18    1.80%  \n",
       "4      $4.00   $0.56  -86.11%  \n",
       "..       ...     ...      ...  \n",
       "67    $16.45  $16.80    2.13%  \n",
       "68     $6.00   $2.43  -59.50%  \n",
       "69     $4.00   $2.74  -31.50%  \n",
       "70    $21.00  $28.60   36.19%  \n",
       "71     $4.00   $0.71  -82.38%  \n",
       "\n",
       "[226 rows x 6 columns]"
      ]
     },
     "execution_count": 20,
     "metadata": {},
     "output_type": "execute_result"
    }
   ],
   "source": [
    "ipos"
   ]
  },
  {
   "cell_type": "code",
   "execution_count": 37,
   "metadata": {},
   "outputs": [],
   "source": [
    "# Get all OHLCV daily prices for all stocks with an \"IPO date\" before March 1, 2024\n",
    "tickers = ipos[ipos[\"IPO Date\"] < \"2024-03-01\"][\"Symbol\"].unique()\n"
   ]
  },
  {
   "cell_type": "code",
   "execution_count": 57,
   "metadata": {},
   "outputs": [
    {
     "name": "stderr",
     "output_type": "stream",
     "text": [
      "[*********************100%%**********************]  1 of 1 completed"
     ]
    },
    {
     "name": "stdout",
     "output_type": "stream",
     "text": [
      "0 IROH\n",
      "1 LGCB\n"
     ]
    },
    {
     "name": "stderr",
     "output_type": "stream",
     "text": [
      "\n",
      "[*********************100%%**********************]  1 of 1 completed\n",
      "[*********************100%%**********************]  1 of 1 completed\n",
      "[*********************100%%**********************]  1 of 1 completed\n"
     ]
    },
    {
     "name": "stdout",
     "output_type": "stream",
     "text": [
      "2 ZKH\n",
      "3 BAYA\n",
      "4 INHD\n"
     ]
    },
    {
     "name": "stderr",
     "output_type": "stream",
     "text": [
      "[*********************100%%**********************]  1 of 1 completed\n",
      "[*********************100%%**********************]  1 of 1 completed\n",
      "[*********************100%%**********************]  1 of 1 completed\n"
     ]
    },
    {
     "name": "stdout",
     "output_type": "stream",
     "text": [
      "5 AFJK\n",
      "6 GSIW\n",
      "7 FEBO\n"
     ]
    },
    {
     "name": "stderr",
     "output_type": "stream",
     "text": [
      "[*********************100%%**********************]  1 of 1 completed\n",
      "[*********************100%%**********************]  1 of 1 completed\n",
      "[*********************100%%**********************]  1 of 1 completed\n"
     ]
    },
    {
     "name": "stdout",
     "output_type": "stream",
     "text": [
      "8 CLBR\n",
      "9 ELAB\n",
      "10 RR\n"
     ]
    },
    {
     "name": "stderr",
     "output_type": "stream",
     "text": [
      "[*********************100%%**********************]  1 of 1 completed\n",
      "[*********************100%%**********************]  1 of 1 completed\n",
      "[*********************100%%**********************]  1 of 1 completed\n"
     ]
    },
    {
     "name": "stdout",
     "output_type": "stream",
     "text": [
      "11 DDC\n",
      "12 GLAC\n",
      "13 SHIM\n"
     ]
    },
    {
     "name": "stderr",
     "output_type": "stream",
     "text": [
      "[*********************100%%**********************]  1 of 1 completed\n",
      "[*********************100%%**********************]  1 of 1 completed\n",
      "[*********************100%%**********************]  1 of 1 completed\n"
     ]
    },
    {
     "name": "stdout",
     "output_type": "stream",
     "text": [
      "14 SGN\n",
      "15 HG\n",
      "16 CRGX\n"
     ]
    },
    {
     "name": "stderr",
     "output_type": "stream",
     "text": [
      "[*********************100%%**********************]  1 of 1 completed\n",
      "[*********************100%%**********************]  1 of 1 completed\n",
      "[*********************100%%**********************]  1 of 1 completed\n"
     ]
    },
    {
     "name": "stdout",
     "output_type": "stream",
     "text": [
      "17 ANSC\n",
      "18 AITR\n",
      "19 GVH\n"
     ]
    },
    {
     "name": "stderr",
     "output_type": "stream",
     "text": [
      "[*********************100%%**********************]  1 of 1 completed\n",
      "[*********************100%%**********************]  1 of 1 completed\n",
      "[*********************100%%**********************]  1 of 1 completed"
     ]
    },
    {
     "name": "stdout",
     "output_type": "stream",
     "text": [
      "20 LXEO\n",
      "21 PAPL\n"
     ]
    },
    {
     "name": "stderr",
     "output_type": "stream",
     "text": [
      "\n",
      "[*********************100%%**********************]  1 of 1 completed\n"
     ]
    },
    {
     "name": "stdout",
     "output_type": "stream",
     "text": [
      "22 ATGL\n",
      "23 MNR\n"
     ]
    },
    {
     "name": "stderr",
     "output_type": "stream",
     "text": [
      "[*********************100%%**********************]  1 of 1 completed\n",
      "[*********************100%%**********************]  1 of 1 completed\n",
      "[*********************100%%**********************]  1 of 1 completed\n"
     ]
    },
    {
     "name": "stdout",
     "output_type": "stream",
     "text": [
      "24 WBUY\n",
      "25 NCL\n",
      "26 BIRK\n"
     ]
    },
    {
     "name": "stderr",
     "output_type": "stream",
     "text": [
      "[*********************100%%**********************]  1 of 1 completed\n",
      "[*********************100%%**********************]  1 of 1 completed\n",
      "[*********************100%%**********************]  1 of 1 completed\n"
     ]
    },
    {
     "name": "stdout",
     "output_type": "stream",
     "text": [
      "27 GMM\n",
      "28 PMEC\n",
      "29 LRHC\n"
     ]
    },
    {
     "name": "stderr",
     "output_type": "stream",
     "text": [
      "[*********************100%%**********************]  1 of 1 completed\n",
      "[*********************100%%**********************]  1 of 1 completed\n",
      "[*********************100%%**********************]  1 of 1 completed\n"
     ]
    },
    {
     "name": "stdout",
     "output_type": "stream",
     "text": [
      "30 GPAK\n",
      "31 SPKL\n"
     ]
    },
    {
     "name": "stderr",
     "output_type": "stream",
     "text": [
      "[*********************100%%**********************]  1 of 1 completed\n",
      "[*********************100%%**********************]  1 of 1 completed\n"
     ]
    },
    {
     "name": "stdout",
     "output_type": "stream",
     "text": [
      "32 QETA\n",
      "33 MSS\n",
      "34 ANL\n"
     ]
    },
    {
     "name": "stderr",
     "output_type": "stream",
     "text": [
      "[*********************100%%**********************]  1 of 1 completed\n",
      "[*********************100%%**********************]  1 of 1 completed\n"
     ]
    },
    {
     "name": "stdout",
     "output_type": "stream",
     "text": [
      "35 SYRA\n",
      "36 VSME\n"
     ]
    },
    {
     "name": "stderr",
     "output_type": "stream",
     "text": [
      "[*********************100%%**********************]  1 of 1 completed\n",
      "[*********************100%%**********************]  1 of 1 completed\n",
      "[*********************100%%**********************]  1 of 1 completed\n"
     ]
    },
    {
     "name": "stdout",
     "output_type": "stream",
     "text": [
      "37 LRE\n",
      "38 TURB\n"
     ]
    },
    {
     "name": "stderr",
     "output_type": "stream",
     "text": [
      "[*********************100%%**********************]  1 of 1 completed\n",
      "[*********************100%%**********************]  1 of 1 completed\n"
     ]
    },
    {
     "name": "stdout",
     "output_type": "stream",
     "text": [
      "39 MDBH\n",
      "40 KVYO\n",
      "41 CART\n"
     ]
    },
    {
     "name": "stderr",
     "output_type": "stream",
     "text": [
      "[*********************100%%**********************]  1 of 1 completed\n",
      "[*********************100%%**********************]  1 of 1 completed\n",
      "[*********************100%%**********************]  1 of 1 completed\n"
     ]
    },
    {
     "name": "stdout",
     "output_type": "stream",
     "text": [
      "42 DTCK\n",
      "43 RYZB\n",
      "44 NMRA\n"
     ]
    },
    {
     "name": "stderr",
     "output_type": "stream",
     "text": [
      "[*********************100%%**********************]  1 of 1 completed\n",
      "[*********************100%%**********************]  1 of 1 completed\n"
     ]
    },
    {
     "name": "stdout",
     "output_type": "stream",
     "text": [
      "45 ARM\n",
      "46 SPPL\n"
     ]
    },
    {
     "name": "stderr",
     "output_type": "stream",
     "text": [
      "[*********************100%%**********************]  1 of 1 completed\n",
      "[*********************100%%**********************]  1 of 1 completed\n"
     ]
    },
    {
     "name": "stdout",
     "output_type": "stream",
     "text": [
      "47 NWGL\n",
      "48 SWIN\n"
     ]
    },
    {
     "name": "stderr",
     "output_type": "stream",
     "text": [
      "[*********************100%%**********************]  1 of 1 completed\n",
      "[*********************100%%**********************]  1 of 1 completed\n"
     ]
    },
    {
     "name": "stdout",
     "output_type": "stream",
     "text": [
      "49 IVP\n",
      "50 NNAG\n",
      "51 SRM\n"
     ]
    },
    {
     "name": "stderr",
     "output_type": "stream",
     "text": [
      "[*********************100%%**********************]  1 of 1 completed\n",
      "[*********************100%%**********************]  1 of 1 completed\n",
      "[*********************100%%**********************]  1 of 1 completed\n"
     ]
    },
    {
     "name": "stdout",
     "output_type": "stream",
     "text": [
      "52 SPGC\n",
      "53 LQR\n"
     ]
    },
    {
     "name": "stderr",
     "output_type": "stream",
     "text": [
      "[*********************100%%**********************]  1 of 1 completed\n",
      "[*********************100%%**********************]  1 of 1 completed\n"
     ]
    },
    {
     "name": "stdout",
     "output_type": "stream",
     "text": [
      "54 NRXS\n",
      "55 FTEL\n"
     ]
    },
    {
     "name": "stderr",
     "output_type": "stream",
     "text": [
      "[*********************100%%**********************]  1 of 1 completed\n",
      "[*********************100%%**********************]  1 of 1 completed\n"
     ]
    },
    {
     "name": "stdout",
     "output_type": "stream",
     "text": [
      "56 MIRA\n",
      "57 CTNT\n"
     ]
    },
    {
     "name": "stderr",
     "output_type": "stream",
     "text": [
      "[*********************100%%**********************]  1 of 1 completed\n",
      "[*********************100%%**********************]  1 of 1 completed\n"
     ]
    },
    {
     "name": "stdout",
     "output_type": "stream",
     "text": [
      "58 PXDT\n",
      "59 HRYU\n"
     ]
    },
    {
     "name": "stderr",
     "output_type": "stream",
     "text": [
      "[*********************100%%**********************]  1 of 1 completed\n",
      "[*********************100%%**********************]  1 of 1 completed\n"
     ]
    },
    {
     "name": "stdout",
     "output_type": "stream",
     "text": [
      "60 SRFM\n",
      "61 PRZO\n",
      "62 HYAC\n"
     ]
    },
    {
     "name": "stderr",
     "output_type": "stream",
     "text": [
      "[*********************100%%**********************]  1 of 1 completed\n",
      "[*********************100%%**********************]  1 of 1 completed\n",
      "[*********************100%%**********************]  1 of 1 completed\n"
     ]
    },
    {
     "name": "stdout",
     "output_type": "stream",
     "text": [
      "63 KVAC\n",
      "64 ELWS\n",
      "65 JNVR\n"
     ]
    },
    {
     "name": "stderr",
     "output_type": "stream",
     "text": [
      "[*********************100%%**********************]  1 of 1 completed\n",
      "[*********************100%%**********************]  1 of 1 completed\n",
      "[*********************100%%**********************]  1 of 1 completed\n"
     ]
    },
    {
     "name": "stdout",
     "output_type": "stream",
     "text": [
      "66 WRNT\n",
      "67 TSBX\n",
      "68 ODD\n"
     ]
    },
    {
     "name": "stderr",
     "output_type": "stream",
     "text": [
      "[*********************100%%**********************]  1 of 1 completed\n",
      "[*********************100%%**********************]  1 of 1 completed\n",
      "[*********************100%%**********************]  1 of 1 completed\n"
     ]
    },
    {
     "name": "stdout",
     "output_type": "stream",
     "text": [
      "69 APGE\n",
      "70 NETD\n",
      "71 SGMT\n"
     ]
    },
    {
     "name": "stderr",
     "output_type": "stream",
     "text": [
      "[*********************100%%**********************]  1 of 1 completed\n",
      "[*********************100%%**********************]  1 of 1 completed\n",
      "[*********************100%%**********************]  1 of 1 completed\n"
     ]
    },
    {
     "name": "stdout",
     "output_type": "stream",
     "text": [
      "72 BOWN\n",
      "73 SXTP\n",
      "74 PWM\n"
     ]
    },
    {
     "name": "stderr",
     "output_type": "stream",
     "text": [
      "[*********************100%%**********************]  1 of 1 completed\n",
      "[*********************100%%**********************]  1 of 1 completed\n",
      "[*********************100%%**********************]  1 of 1 completed\n"
     ]
    },
    {
     "name": "stdout",
     "output_type": "stream",
     "text": [
      "75 VTMX\n",
      "76 INTS\n",
      "77 KGS\n"
     ]
    },
    {
     "name": "stderr",
     "output_type": "stream",
     "text": [
      "[*********************100%%**********************]  1 of 1 completed\n",
      "[*********************100%%**********************]  1 of 1 completed\n",
      "[*********************100%%**********************]  1 of 1 completed\n"
     ]
    },
    {
     "name": "stdout",
     "output_type": "stream",
     "text": [
      "78 SVV\n",
      "79 FIHL\n",
      "80 GENK\n"
     ]
    },
    {
     "name": "stderr",
     "output_type": "stream",
     "text": [
      "[*********************100%%**********************]  1 of 1 completed\n",
      "[*********************100%%**********************]  1 of 1 completed\n",
      "[*********************100%%**********************]  1 of 1 completed\n"
     ]
    },
    {
     "name": "stdout",
     "output_type": "stream",
     "text": [
      "81 BUJA\n",
      "82 BOF\n",
      "83 AZTR\n"
     ]
    },
    {
     "name": "stderr",
     "output_type": "stream",
     "text": [
      "[*********************100%%**********************]  1 of 1 completed\n",
      "[*********************100%%**********************]  1 of 1 completed\n",
      "[*********************100%%**********************]  1 of 1 completed\n"
     ]
    },
    {
     "name": "stdout",
     "output_type": "stream",
     "text": [
      "84 CAVA\n",
      "85 ESHA\n"
     ]
    },
    {
     "name": "stderr",
     "output_type": "stream",
     "text": [
      "[*********************100%%**********************]  1 of 1 completed\n"
     ]
    },
    {
     "name": "stdout",
     "output_type": "stream",
     "text": [
      "86 ATMU\n",
      "87 ATS\n"
     ]
    },
    {
     "name": "stderr",
     "output_type": "stream",
     "text": [
      "[*********************100%%**********************]  1 of 1 completed\n",
      "[*********************100%%**********************]  1 of 1 completed\n",
      "[*********************100%%**********************]  1 of 1 completed\n"
     ]
    },
    {
     "name": "stdout",
     "output_type": "stream",
     "text": [
      "88 IPXX\n",
      "89 CWD\n",
      "90 SGE\n"
     ]
    },
    {
     "name": "stderr",
     "output_type": "stream",
     "text": [
      "[*********************100%%**********************]  1 of 1 completed\n",
      "[*********************100%%**********************]  1 of 1 completed\n",
      "[*********************100%%**********************]  1 of 1 completed\n"
     ]
    },
    {
     "name": "stdout",
     "output_type": "stream",
     "text": [
      "91 SLRN\n",
      "92 ALCY\n",
      "93 KVUE\n"
     ]
    },
    {
     "name": "stderr",
     "output_type": "stream",
     "text": [
      "[*********************100%%**********************]  1 of 1 completed\n",
      "[*********************100%%**********************]  1 of 1 completed\n",
      "[*********************100%%**********************]  1 of 1 completed\n"
     ]
    },
    {
     "name": "stdout",
     "output_type": "stream",
     "text": [
      "94 GODN\n",
      "95 TRNR\n",
      "96 AACT\n"
     ]
    },
    {
     "name": "stderr",
     "output_type": "stream",
     "text": [
      "[*********************100%%**********************]  1 of 1 completed\n",
      "[*********************100%%**********************]  1 of 1 completed\n",
      "[*********************100%%**********************]  1 of 1 completed\n"
     ]
    },
    {
     "name": "stdout",
     "output_type": "stream",
     "text": [
      "97 JYD\n",
      "98 USGO\n"
     ]
    },
    {
     "name": "stderr",
     "output_type": "stream",
     "text": [
      "[*********************100%%**********************]  1 of 1 completed\n",
      "[*********************100%%**********************]  1 of 1 completed\n"
     ]
    },
    {
     "name": "stdout",
     "output_type": "stream",
     "text": [
      "99 UCAR\n",
      "100 WLGS\n",
      "101 TPET\n"
     ]
    },
    {
     "name": "stderr",
     "output_type": "stream",
     "text": [
      "[*********************100%%**********************]  1 of 1 completed\n",
      "[*********************100%%**********************]  1 of 1 completed\n"
     ]
    },
    {
     "name": "stdout",
     "output_type": "stream",
     "text": [
      "102 TCJH\n",
      "103 GDTC\n"
     ]
    },
    {
     "name": "stderr",
     "output_type": "stream",
     "text": [
      "[*********************100%%**********************]  1 of 1 completed\n",
      "[*********************100%%**********************]  1 of 1 completed\n"
     ]
    },
    {
     "name": "stdout",
     "output_type": "stream",
     "text": [
      "104 VCIG\n",
      "105 GDHG\n"
     ]
    },
    {
     "name": "stderr",
     "output_type": "stream",
     "text": [
      "[*********************100%%**********************]  1 of 1 completed\n",
      "[*********************100%%**********************]  1 of 1 completed\n"
     ]
    },
    {
     "name": "stdout",
     "output_type": "stream",
     "text": [
      "106 ARBB\n",
      "107 ISPR\n"
     ]
    },
    {
     "name": "stderr",
     "output_type": "stream",
     "text": [
      "[*********************100%%**********************]  1 of 1 completed\n",
      "[*********************100%%**********************]  1 of 1 completed\n",
      "[*********************100%%**********************]  1 of 1 completed\n"
     ]
    },
    {
     "name": "stdout",
     "output_type": "stream",
     "text": [
      "108 MGIH\n",
      "109 MWG\n"
     ]
    },
    {
     "name": "stderr",
     "output_type": "stream",
     "text": [
      "[*********************100%%**********************]  1 of 1 completed\n",
      "[*********************100%%**********************]  1 of 1 completed\n"
     ]
    },
    {
     "name": "stdout",
     "output_type": "stream",
     "text": [
      "110 HSHP\n",
      "111 SFWL\n",
      "112 SYT\n"
     ]
    },
    {
     "name": "stderr",
     "output_type": "stream",
     "text": [
      "[*********************100%%**********************]  1 of 1 completed\n",
      "[*********************100%%**********************]  1 of 1 completed\n"
     ]
    },
    {
     "name": "stdout",
     "output_type": "stream",
     "text": [
      "113 HKIT\n",
      "114 CHSN\n"
     ]
    },
    {
     "name": "stderr",
     "output_type": "stream",
     "text": [
      "[*********************100%%**********************]  1 of 1 completed\n",
      "[*********************100%%**********************]  1 of 1 completed\n",
      "[*********************100%%**********************]  1 of 1 completed\n"
     ]
    },
    {
     "name": "stdout",
     "output_type": "stream",
     "text": [
      "115 TBMC\n",
      "116 HLP\n",
      "117 ZJYL\n"
     ]
    },
    {
     "name": "stderr",
     "output_type": "stream",
     "text": [
      "[*********************100%%**********************]  1 of 1 completed\n",
      "[*********************100%%**********************]  1 of 1 completed\n",
      "[*********************100%%**********************]  1 of 1 completed\n"
     ]
    },
    {
     "name": "stdout",
     "output_type": "stream",
     "text": [
      "118 TMTC\n",
      "119 YGFGF\n"
     ]
    },
    {
     "name": "stderr",
     "output_type": "stream",
     "text": [
      "[*********************100%%**********************]  1 of 1 completed\n"
     ]
    },
    {
     "name": "stdout",
     "output_type": "stream",
     "text": [
      "120 OAKU\n",
      "121 BANL\n"
     ]
    },
    {
     "name": "stderr",
     "output_type": "stream",
     "text": [
      "[*********************100%%**********************]  1 of 1 completed\n",
      "[*********************100%%**********************]  1 of 1 completed\n"
     ]
    },
    {
     "name": "stdout",
     "output_type": "stream",
     "text": [
      "122 OMH\n",
      "123 MGRX\n"
     ]
    },
    {
     "name": "stderr",
     "output_type": "stream",
     "text": [
      "[*********************100%%**********************]  1 of 1 completed\n",
      "[*********************100%%**********************]  1 of 1 completed\n",
      "[*********************100%%**********************]  1 of 1 completed\n"
     ]
    },
    {
     "name": "stdout",
     "output_type": "stream",
     "text": [
      "124 FORL\n",
      "125 ICG\n"
     ]
    },
    {
     "name": "stderr",
     "output_type": "stream",
     "text": [
      "[*********************100%%**********************]  1 of 1 completed\n",
      "[*********************100%%**********************]  1 of 1 completed\n"
     ]
    },
    {
     "name": "stdout",
     "output_type": "stream",
     "text": [
      "126 IZM\n",
      "127 AESI\n",
      "128 AIXI\n"
     ]
    },
    {
     "name": "stderr",
     "output_type": "stream",
     "text": [
      "[*********************100%%**********************]  1 of 1 completed\n",
      "[*********************100%%**********************]  1 of 1 completed\n",
      "[*********************100%%**********************]  1 of 1 completed\n"
     ]
    },
    {
     "name": "stdout",
     "output_type": "stream",
     "text": [
      "129 SBXC\n",
      "130 BMR\n",
      "131 DIST\n"
     ]
    },
    {
     "name": "stderr",
     "output_type": "stream",
     "text": [
      "[*********************100%%**********************]  1 of 1 completed\n",
      "[*********************100%%**********************]  1 of 1 completed\n",
      "[*********************100%%**********************]  1 of 1 completed\n"
     ]
    },
    {
     "name": "stdout",
     "output_type": "stream",
     "text": [
      "132 GXAI\n",
      "133 MARX\n",
      "134 BFRG\n"
     ]
    },
    {
     "name": "stderr",
     "output_type": "stream",
     "text": [
      "[*********************100%%**********************]  1 of 1 completed\n",
      "[*********************100%%**********************]  1 of 1 completed\n",
      "[*********************100%%**********************]  1 of 1 completed\n"
     ]
    },
    {
     "name": "stdout",
     "output_type": "stream",
     "text": [
      "135 ENLT\n",
      "136 MLYS\n"
     ]
    },
    {
     "name": "stderr",
     "output_type": "stream",
     "text": [
      "[*********************100%%**********************]  1 of 1 completed\n",
      "[*********************100%%**********************]  1 of 1 completed\n"
     ]
    },
    {
     "name": "stdout",
     "output_type": "stream",
     "text": [
      "137 PTHR\n",
      "138 BLAC\n"
     ]
    },
    {
     "name": "stderr",
     "output_type": "stream",
     "text": [
      "[*********************100%%**********************]  1 of 1 completed\n",
      "[*********************100%%**********************]  1 of 1 completed\n"
     ]
    },
    {
     "name": "stdout",
     "output_type": "stream",
     "text": [
      "139 NXT\n",
      "140 HSAI\n"
     ]
    },
    {
     "name": "stderr",
     "output_type": "stream",
     "text": [
      "[*********************100%%**********************]  1 of 1 completed\n"
     ]
    },
    {
     "name": "stdout",
     "output_type": "stream",
     "text": [
      "141 LSDI\n",
      "142 LICN\n"
     ]
    },
    {
     "name": "stderr",
     "output_type": "stream",
     "text": [
      "[*********************100%%**********************]  1 of 1 completed\n",
      "[*********************100%%**********************]  1 of 1 completed\n",
      "[*********************100%%**********************]  1 of 1 completed"
     ]
    },
    {
     "name": "stdout",
     "output_type": "stream",
     "text": [
      "143 GPCR\n",
      "144 ASST\n"
     ]
    },
    {
     "name": "stderr",
     "output_type": "stream",
     "text": [
      "\n",
      "[*********************100%%**********************]  1 of 1 completed\n",
      "[*********************100%%**********************]  1 of 1 completed\n"
     ]
    },
    {
     "name": "stdout",
     "output_type": "stream",
     "text": [
      "145 CETU\n",
      "146 TXO\n"
     ]
    },
    {
     "name": "stderr",
     "output_type": "stream",
     "text": [
      "[*********************100%%**********************]  1 of 1 completed\n"
     ]
    },
    {
     "name": "stdout",
     "output_type": "stream",
     "text": [
      "147 BREA\n",
      "148 GNLX\n"
     ]
    },
    {
     "name": "stderr",
     "output_type": "stream",
     "text": [
      "[*********************100%%**********************]  1 of 1 completed\n",
      "[*********************100%%**********************]  1 of 1 completed\n",
      "[*********************100%%**********************]  1 of 1 completed\n"
     ]
    },
    {
     "name": "stdout",
     "output_type": "stream",
     "text": [
      "149 QSG\n",
      "150 CVKD\n",
      "151 SKWD\n"
     ]
    },
    {
     "name": "stderr",
     "output_type": "stream",
     "text": [
      "[*********************100%%**********************]  1 of 1 completed\n",
      "[*********************100%%**********************]  1 of 1 completed\n"
     ]
    },
    {
     "name": "stdout",
     "output_type": "stream",
     "text": [
      "152 ISRL\n",
      "153 MGOL\n"
     ]
    },
    {
     "name": "stderr",
     "output_type": "stream",
     "text": [
      "[*********************100%%**********************]  1 of 1 completed\n",
      "[*********************100%%**********************]  1 of 1 completed\n",
      "[*********************100%%**********************]  1 of 1 completed\n"
     ]
    },
    {
     "name": "stdout",
     "output_type": "stream",
     "text": [
      "154 SMXT\n",
      "155 VHAI\n"
     ]
    },
    {
     "name": "stderr",
     "output_type": "stream",
     "text": [
      "[*********************100%%**********************]  1 of 1 completed\n",
      "[*********************100%%**********************]  1 of 1 completed\n"
     ]
    },
    {
     "name": "stdout",
     "output_type": "stream",
     "text": [
      "156 DYCQ\n",
      "157 CHRO\n",
      "158 UMAC\n"
     ]
    },
    {
     "name": "stderr",
     "output_type": "stream",
     "text": [
      "[*********************100%%**********************]  1 of 1 completed\n",
      "[*********************100%%**********************]  1 of 1 completed\n",
      "[*********************100%%**********************]  1 of 1 completed\n"
     ]
    },
    {
     "name": "stdout",
     "output_type": "stream",
     "text": [
      "159 TBBB\n",
      "160 MGX\n",
      "161 HLXB\n"
     ]
    },
    {
     "name": "stderr",
     "output_type": "stream",
     "text": [
      "[*********************100%%**********************]  1 of 1 completed\n",
      "[*********************100%%**********************]  1 of 1 completed\n",
      "[*********************100%%**********************]  1 of 1 completed\n"
     ]
    },
    {
     "name": "stdout",
     "output_type": "stream",
     "text": [
      "162 TELO\n",
      "163 KYTX\n",
      "164 PMNT\n"
     ]
    },
    {
     "name": "stderr",
     "output_type": "stream",
     "text": [
      "[*********************100%%**********************]  1 of 1 completed\n",
      "[*********************100%%**********************]  1 of 1 completed\n",
      "[*********************100%%**********************]  1 of 1 completed\n"
     ]
    },
    {
     "name": "stdout",
     "output_type": "stream",
     "text": [
      "165 AHR\n",
      "166 LEGT\n",
      "167 ANRO\n"
     ]
    },
    {
     "name": "stderr",
     "output_type": "stream",
     "text": [
      "[*********************100%%**********************]  1 of 1 completed\n",
      "[*********************100%%**********************]  1 of 1 completed\n",
      "[*********************100%%**********************]  1 of 1 completed\n"
     ]
    },
    {
     "name": "stdout",
     "output_type": "stream",
     "text": [
      "168 GUTS\n",
      "169 AS\n",
      "170 FBLG\n"
     ]
    },
    {
     "name": "stderr",
     "output_type": "stream",
     "text": [
      "[*********************100%%**********************]  1 of 1 completed\n",
      "[*********************100%%**********************]  1 of 1 completed\n",
      "[*********************100%%**********************]  1 of 1 completed\n"
     ]
    },
    {
     "name": "stdout",
     "output_type": "stream",
     "text": [
      "171 BTSG\n",
      "172 AVBP\n",
      "173 HAO\n"
     ]
    },
    {
     "name": "stderr",
     "output_type": "stream",
     "text": [
      "[*********************100%%**********************]  1 of 1 completed\n",
      "[*********************100%%**********************]  1 of 1 completed\n",
      "[*********************100%%**********************]  1 of 1 completed\n"
     ]
    },
    {
     "name": "stdout",
     "output_type": "stream",
     "text": [
      "174 CGON\n",
      "175 YIBO\n",
      "176 SUGP\n"
     ]
    },
    {
     "name": "stderr",
     "output_type": "stream",
     "text": [
      "[*********************100%%**********************]  1 of 1 completed\n",
      "[*********************100%%**********************]  1 of 1 completed\n",
      "[*********************100%%**********************]  1 of 1 completed\n"
     ]
    },
    {
     "name": "stdout",
     "output_type": "stream",
     "text": [
      "177 JL\n",
      "178 KSPI\n",
      "179 JVSA\n"
     ]
    },
    {
     "name": "stderr",
     "output_type": "stream",
     "text": [
      "[*********************100%%**********************]  1 of 1 completed\n",
      "[*********************100%%**********************]  1 of 1 completed\n",
      "[*********************100%%**********************]  1 of 1 completed\n"
     ]
    },
    {
     "name": "stdout",
     "output_type": "stream",
     "text": [
      "180 PSBD\n",
      "181 CCTG\n",
      "182 SYNX\n"
     ]
    },
    {
     "name": "stderr",
     "output_type": "stream",
     "text": [
      "[*********************100%%**********************]  1 of 1 completed\n",
      "[*********************100%%**********************]  1 of 1 completed\n",
      "[*********************100%%**********************]  1 of 1 completed"
     ]
    },
    {
     "name": "stdout",
     "output_type": "stream",
     "text": [
      "183 SDHC\n",
      "184 ROMA\n"
     ]
    },
    {
     "name": "stderr",
     "output_type": "stream",
     "text": [
      "\n"
     ]
    }
   ],
   "source": [
    "stocks_df = pd.DataFrame({'A' : []})\n",
    "for idx, ticker in enumerate(tickers):\n",
    "    print(idx, ticker)\n",
    "    if ticker == \"RYZB\":\n",
    "        continue\n",
    "    elif ticker == \"IBAC\":\n",
    "        ticker = \"IBACU\"\n",
    "    elif ticker == \"PTHR\":\n",
    "        ticker = \"HOVR\"\n",
    "\n",
    "    # Load historical daily prices\n",
    "    history_prices = yf.download(\n",
    "        tickers = ticker,\n",
    "        period = \"max\",\n",
    "        interval = \"1d\")\n",
    "\n",
    "    # generate features for historical prices, and what we want to predict\n",
    "    history_prices[\"Ticker\"] = ticker\n",
    "    history_prices[\"Year\"]= history_prices.index.year\n",
    "    history_prices[\"Month\"] = history_prices.index.month\n",
    "    history_prices[\"Weekday\"] = history_prices.index.weekday\n",
    "    history_prices[\"Date\"] = history_prices.index.date\n",
    "\n",
    "    # historical returns\n",
    "    for i in range(1, 31):\n",
    "        history_prices[\"growth_future_\" + str(i) + \"d\"] = history_prices[\"Adj Close\"].shift(-i) / history_prices[\"Adj Close\"]\n",
    "\n",
    "\n",
    "    if stocks_df.empty:\n",
    "        stocks_df = history_prices\n",
    "    else:\n",
    "        stocks_df = pd.concat([stocks_df, history_prices], ignore_index=True)"
   ]
  },
  {
   "cell_type": "code",
   "execution_count": 47,
   "metadata": {},
   "outputs": [
    {
     "data": {
      "text/plain": [
       "Index(['Open', 'High', 'Low', 'Close', 'Adj Close', 'Volume', 'Ticker', 'Year',\n",
       "       'Month', 'Weekday', 'Date', 'growth_future_1d', 'growth_future_2d',\n",
       "       'growth_future_3d', 'growth_future_4d', 'growth_future_5d',\n",
       "       'growth_future_6d', 'growth_future_7d', 'growth_future_8d',\n",
       "       'growth_future_9d', 'growth_future_10d', 'growth_future_11d',\n",
       "       'growth_future_12d', 'growth_future_13d', 'growth_future_14d',\n",
       "       'growth_future_15d', 'growth_future_16d', 'growth_future_17d',\n",
       "       'growth_future_18d', 'growth_future_19d', 'growth_future_20d',\n",
       "       'growth_future_21d', 'growth_future_22d', 'growth_future_23d',\n",
       "       'growth_future_24d', 'growth_future_25d', 'growth_future_26d',\n",
       "       'growth_future_27d', 'growth_future_28d', 'growth_future_29d',\n",
       "       'growth_future_30d'],\n",
       "      dtype='object')"
      ]
     },
     "execution_count": 47,
     "metadata": {},
     "output_type": "execute_result"
    }
   ],
   "source": [
    "stocks_df.columns"
   ]
  },
  {
   "cell_type": "code",
   "execution_count": 48,
   "metadata": {},
   "outputs": [
    {
     "data": {
      "text/html": [
       "<div>\n",
       "<style scoped>\n",
       "    .dataframe tbody tr th:only-of-type {\n",
       "        vertical-align: middle;\n",
       "    }\n",
       "\n",
       "    .dataframe tbody tr th {\n",
       "        vertical-align: top;\n",
       "    }\n",
       "\n",
       "    .dataframe thead th {\n",
       "        text-align: right;\n",
       "    }\n",
       "</style>\n",
       "<table border=\"1\" class=\"dataframe\">\n",
       "  <thead>\n",
       "    <tr style=\"text-align: right;\">\n",
       "      <th></th>\n",
       "      <th>Open</th>\n",
       "      <th>High</th>\n",
       "      <th>Low</th>\n",
       "      <th>Close</th>\n",
       "      <th>Adj Close</th>\n",
       "      <th>Volume</th>\n",
       "      <th>Ticker</th>\n",
       "      <th>Year</th>\n",
       "      <th>Month</th>\n",
       "      <th>Weekday</th>\n",
       "      <th>...</th>\n",
       "      <th>growth_future_21d</th>\n",
       "      <th>growth_future_22d</th>\n",
       "      <th>growth_future_23d</th>\n",
       "      <th>growth_future_24d</th>\n",
       "      <th>growth_future_25d</th>\n",
       "      <th>growth_future_26d</th>\n",
       "      <th>growth_future_27d</th>\n",
       "      <th>growth_future_28d</th>\n",
       "      <th>growth_future_29d</th>\n",
       "      <th>growth_future_30d</th>\n",
       "    </tr>\n",
       "  </thead>\n",
       "  <tbody>\n",
       "    <tr>\n",
       "      <th>0</th>\n",
       "      <td>10.050</td>\n",
       "      <td>10.050</td>\n",
       "      <td>10.010</td>\n",
       "      <td>10.0100</td>\n",
       "      <td>10.0100</td>\n",
       "      <td>16700</td>\n",
       "      <td>IROH</td>\n",
       "      <td>2024</td>\n",
       "      <td>2</td>\n",
       "      <td>4</td>\n",
       "      <td>...</td>\n",
       "      <td>1.000999</td>\n",
       "      <td>1.000999</td>\n",
       "      <td>1.000999</td>\n",
       "      <td>1.000999</td>\n",
       "      <td>1.000999</td>\n",
       "      <td>1.000999</td>\n",
       "      <td>1.000999</td>\n",
       "      <td>1.000999</td>\n",
       "      <td>1.000999</td>\n",
       "      <td>1.000999</td>\n",
       "    </tr>\n",
       "    <tr>\n",
       "      <th>1</th>\n",
       "      <td>10.020</td>\n",
       "      <td>10.020</td>\n",
       "      <td>10.020</td>\n",
       "      <td>10.0200</td>\n",
       "      <td>10.0200</td>\n",
       "      <td>5200</td>\n",
       "      <td>IROH</td>\n",
       "      <td>2024</td>\n",
       "      <td>2</td>\n",
       "      <td>1</td>\n",
       "      <td>...</td>\n",
       "      <td>0.999002</td>\n",
       "      <td>0.999002</td>\n",
       "      <td>0.999002</td>\n",
       "      <td>0.999002</td>\n",
       "      <td>0.999002</td>\n",
       "      <td>0.999002</td>\n",
       "      <td>0.999002</td>\n",
       "      <td>0.999002</td>\n",
       "      <td>0.999002</td>\n",
       "      <td>0.999002</td>\n",
       "    </tr>\n",
       "    <tr>\n",
       "      <th>2</th>\n",
       "      <td>10.020</td>\n",
       "      <td>10.020</td>\n",
       "      <td>10.015</td>\n",
       "      <td>10.0150</td>\n",
       "      <td>10.0150</td>\n",
       "      <td>98600</td>\n",
       "      <td>IROH</td>\n",
       "      <td>2024</td>\n",
       "      <td>2</td>\n",
       "      <td>2</td>\n",
       "      <td>...</td>\n",
       "      <td>0.996505</td>\n",
       "      <td>0.996505</td>\n",
       "      <td>0.996505</td>\n",
       "      <td>0.996505</td>\n",
       "      <td>0.996505</td>\n",
       "      <td>0.996505</td>\n",
       "      <td>0.996505</td>\n",
       "      <td>0.996505</td>\n",
       "      <td>0.996505</td>\n",
       "      <td>0.996505</td>\n",
       "    </tr>\n",
       "    <tr>\n",
       "      <th>3</th>\n",
       "      <td>10.020</td>\n",
       "      <td>10.020</td>\n",
       "      <td>10.020</td>\n",
       "      <td>10.0200</td>\n",
       "      <td>10.0200</td>\n",
       "      <td>5600</td>\n",
       "      <td>IROH</td>\n",
       "      <td>2024</td>\n",
       "      <td>2</td>\n",
       "      <td>3</td>\n",
       "      <td>...</td>\n",
       "      <td>0.996008</td>\n",
       "      <td>0.996008</td>\n",
       "      <td>0.996008</td>\n",
       "      <td>0.996008</td>\n",
       "      <td>0.996008</td>\n",
       "      <td>0.996008</td>\n",
       "      <td>0.996008</td>\n",
       "      <td>0.996008</td>\n",
       "      <td>0.996008</td>\n",
       "      <td>0.996008</td>\n",
       "    </tr>\n",
       "    <tr>\n",
       "      <th>4</th>\n",
       "      <td>10.020</td>\n",
       "      <td>10.020</td>\n",
       "      <td>10.010</td>\n",
       "      <td>10.0100</td>\n",
       "      <td>10.0100</td>\n",
       "      <td>14800</td>\n",
       "      <td>IROH</td>\n",
       "      <td>2024</td>\n",
       "      <td>2</td>\n",
       "      <td>4</td>\n",
       "      <td>...</td>\n",
       "      <td>0.997003</td>\n",
       "      <td>0.997003</td>\n",
       "      <td>0.997003</td>\n",
       "      <td>0.997003</td>\n",
       "      <td>0.997003</td>\n",
       "      <td>0.997003</td>\n",
       "      <td>0.997003</td>\n",
       "      <td>0.997003</td>\n",
       "      <td>0.997003</td>\n",
       "      <td>0.997003</td>\n",
       "    </tr>\n",
       "    <tr>\n",
       "      <th>...</th>\n",
       "      <td>...</td>\n",
       "      <td>...</td>\n",
       "      <td>...</td>\n",
       "      <td>...</td>\n",
       "      <td>...</td>\n",
       "      <td>...</td>\n",
       "      <td>...</td>\n",
       "      <td>...</td>\n",
       "      <td>...</td>\n",
       "      <td>...</td>\n",
       "      <td>...</td>\n",
       "      <td>...</td>\n",
       "      <td>...</td>\n",
       "      <td>...</td>\n",
       "      <td>...</td>\n",
       "      <td>...</td>\n",
       "      <td>...</td>\n",
       "      <td>...</td>\n",
       "      <td>...</td>\n",
       "      <td>...</td>\n",
       "      <td>...</td>\n",
       "    </tr>\n",
       "    <tr>\n",
       "      <th>39196</th>\n",
       "      <td>0.739</td>\n",
       "      <td>0.739</td>\n",
       "      <td>0.710</td>\n",
       "      <td>0.7110</td>\n",
       "      <td>0.7110</td>\n",
       "      <td>32900</td>\n",
       "      <td>ROMA</td>\n",
       "      <td>2024</td>\n",
       "      <td>5</td>\n",
       "      <td>0</td>\n",
       "      <td>...</td>\n",
       "      <td>NaN</td>\n",
       "      <td>NaN</td>\n",
       "      <td>NaN</td>\n",
       "      <td>NaN</td>\n",
       "      <td>NaN</td>\n",
       "      <td>NaN</td>\n",
       "      <td>NaN</td>\n",
       "      <td>NaN</td>\n",
       "      <td>NaN</td>\n",
       "      <td>NaN</td>\n",
       "    </tr>\n",
       "    <tr>\n",
       "      <th>39197</th>\n",
       "      <td>0.740</td>\n",
       "      <td>0.810</td>\n",
       "      <td>0.715</td>\n",
       "      <td>0.7430</td>\n",
       "      <td>0.7430</td>\n",
       "      <td>273600</td>\n",
       "      <td>ROMA</td>\n",
       "      <td>2024</td>\n",
       "      <td>5</td>\n",
       "      <td>1</td>\n",
       "      <td>...</td>\n",
       "      <td>NaN</td>\n",
       "      <td>NaN</td>\n",
       "      <td>NaN</td>\n",
       "      <td>NaN</td>\n",
       "      <td>NaN</td>\n",
       "      <td>NaN</td>\n",
       "      <td>NaN</td>\n",
       "      <td>NaN</td>\n",
       "      <td>NaN</td>\n",
       "      <td>NaN</td>\n",
       "    </tr>\n",
       "    <tr>\n",
       "      <th>39198</th>\n",
       "      <td>0.739</td>\n",
       "      <td>0.780</td>\n",
       "      <td>0.660</td>\n",
       "      <td>0.7080</td>\n",
       "      <td>0.7080</td>\n",
       "      <td>187800</td>\n",
       "      <td>ROMA</td>\n",
       "      <td>2024</td>\n",
       "      <td>5</td>\n",
       "      <td>2</td>\n",
       "      <td>...</td>\n",
       "      <td>NaN</td>\n",
       "      <td>NaN</td>\n",
       "      <td>NaN</td>\n",
       "      <td>NaN</td>\n",
       "      <td>NaN</td>\n",
       "      <td>NaN</td>\n",
       "      <td>NaN</td>\n",
       "      <td>NaN</td>\n",
       "      <td>NaN</td>\n",
       "      <td>NaN</td>\n",
       "    </tr>\n",
       "    <tr>\n",
       "      <th>39199</th>\n",
       "      <td>0.720</td>\n",
       "      <td>0.730</td>\n",
       "      <td>0.680</td>\n",
       "      <td>0.7050</td>\n",
       "      <td>0.7050</td>\n",
       "      <td>82100</td>\n",
       "      <td>ROMA</td>\n",
       "      <td>2024</td>\n",
       "      <td>5</td>\n",
       "      <td>3</td>\n",
       "      <td>...</td>\n",
       "      <td>NaN</td>\n",
       "      <td>NaN</td>\n",
       "      <td>NaN</td>\n",
       "      <td>NaN</td>\n",
       "      <td>NaN</td>\n",
       "      <td>NaN</td>\n",
       "      <td>NaN</td>\n",
       "      <td>NaN</td>\n",
       "      <td>NaN</td>\n",
       "      <td>NaN</td>\n",
       "    </tr>\n",
       "    <tr>\n",
       "      <th>39200</th>\n",
       "      <td>0.790</td>\n",
       "      <td>0.790</td>\n",
       "      <td>0.750</td>\n",
       "      <td>0.7701</td>\n",
       "      <td>0.7701</td>\n",
       "      <td>162235</td>\n",
       "      <td>ROMA</td>\n",
       "      <td>2024</td>\n",
       "      <td>5</td>\n",
       "      <td>4</td>\n",
       "      <td>...</td>\n",
       "      <td>NaN</td>\n",
       "      <td>NaN</td>\n",
       "      <td>NaN</td>\n",
       "      <td>NaN</td>\n",
       "      <td>NaN</td>\n",
       "      <td>NaN</td>\n",
       "      <td>NaN</td>\n",
       "      <td>NaN</td>\n",
       "      <td>NaN</td>\n",
       "      <td>NaN</td>\n",
       "    </tr>\n",
       "  </tbody>\n",
       "</table>\n",
       "<p>39201 rows × 41 columns</p>\n",
       "</div>"
      ],
      "text/plain": [
       "         Open    High     Low    Close  Adj Close  Volume Ticker  Year  Month  \\\n",
       "0      10.050  10.050  10.010  10.0100    10.0100   16700   IROH  2024      2   \n",
       "1      10.020  10.020  10.020  10.0200    10.0200    5200   IROH  2024      2   \n",
       "2      10.020  10.020  10.015  10.0150    10.0150   98600   IROH  2024      2   \n",
       "3      10.020  10.020  10.020  10.0200    10.0200    5600   IROH  2024      2   \n",
       "4      10.020  10.020  10.010  10.0100    10.0100   14800   IROH  2024      2   \n",
       "...       ...     ...     ...      ...        ...     ...    ...   ...    ...   \n",
       "39196   0.739   0.739   0.710   0.7110     0.7110   32900   ROMA  2024      5   \n",
       "39197   0.740   0.810   0.715   0.7430     0.7430  273600   ROMA  2024      5   \n",
       "39198   0.739   0.780   0.660   0.7080     0.7080  187800   ROMA  2024      5   \n",
       "39199   0.720   0.730   0.680   0.7050     0.7050   82100   ROMA  2024      5   \n",
       "39200   0.790   0.790   0.750   0.7701     0.7701  162235   ROMA  2024      5   \n",
       "\n",
       "       Weekday  ... growth_future_21d  growth_future_22d  growth_future_23d  \\\n",
       "0            4  ...          1.000999           1.000999           1.000999   \n",
       "1            1  ...          0.999002           0.999002           0.999002   \n",
       "2            2  ...          0.996505           0.996505           0.996505   \n",
       "3            3  ...          0.996008           0.996008           0.996008   \n",
       "4            4  ...          0.997003           0.997003           0.997003   \n",
       "...        ...  ...               ...                ...                ...   \n",
       "39196        0  ...               NaN                NaN                NaN   \n",
       "39197        1  ...               NaN                NaN                NaN   \n",
       "39198        2  ...               NaN                NaN                NaN   \n",
       "39199        3  ...               NaN                NaN                NaN   \n",
       "39200        4  ...               NaN                NaN                NaN   \n",
       "\n",
       "       growth_future_24d  growth_future_25d  growth_future_26d  \\\n",
       "0               1.000999           1.000999           1.000999   \n",
       "1               0.999002           0.999002           0.999002   \n",
       "2               0.996505           0.996505           0.996505   \n",
       "3               0.996008           0.996008           0.996008   \n",
       "4               0.997003           0.997003           0.997003   \n",
       "...                  ...                ...                ...   \n",
       "39196                NaN                NaN                NaN   \n",
       "39197                NaN                NaN                NaN   \n",
       "39198                NaN                NaN                NaN   \n",
       "39199                NaN                NaN                NaN   \n",
       "39200                NaN                NaN                NaN   \n",
       "\n",
       "       growth_future_27d  growth_future_28d  growth_future_29d  \\\n",
       "0               1.000999           1.000999           1.000999   \n",
       "1               0.999002           0.999002           0.999002   \n",
       "2               0.996505           0.996505           0.996505   \n",
       "3               0.996008           0.996008           0.996008   \n",
       "4               0.997003           0.997003           0.997003   \n",
       "...                  ...                ...                ...   \n",
       "39196                NaN                NaN                NaN   \n",
       "39197                NaN                NaN                NaN   \n",
       "39198                NaN                NaN                NaN   \n",
       "39199                NaN                NaN                NaN   \n",
       "39200                NaN                NaN                NaN   \n",
       "\n",
       "       growth_future_30d  \n",
       "0               1.000999  \n",
       "1               0.999002  \n",
       "2               0.996505  \n",
       "3               0.996008  \n",
       "4               0.997003  \n",
       "...                  ...  \n",
       "39196                NaN  \n",
       "39197                NaN  \n",
       "39198                NaN  \n",
       "39199                NaN  \n",
       "39200                NaN  \n",
       "\n",
       "[39201 rows x 41 columns]"
      ]
     },
     "execution_count": 48,
     "metadata": {},
     "output_type": "execute_result"
    }
   ],
   "source": [
    "stocks_df"
   ]
  },
  {
   "cell_type": "code",
   "execution_count": 60,
   "metadata": {},
   "outputs": [
    {
     "data": {
      "text/html": [
       "<div>\n",
       "<style scoped>\n",
       "    .dataframe tbody tr th:only-of-type {\n",
       "        vertical-align: middle;\n",
       "    }\n",
       "\n",
       "    .dataframe tbody tr th {\n",
       "        vertical-align: top;\n",
       "    }\n",
       "\n",
       "    .dataframe thead th {\n",
       "        text-align: right;\n",
       "    }\n",
       "</style>\n",
       "<table border=\"1\" class=\"dataframe\">\n",
       "  <thead>\n",
       "    <tr style=\"text-align: right;\">\n",
       "      <th></th>\n",
       "      <th>growth_future_1d</th>\n",
       "      <th>growth_future_2d</th>\n",
       "      <th>growth_future_3d</th>\n",
       "      <th>growth_future_4d</th>\n",
       "      <th>growth_future_5d</th>\n",
       "      <th>growth_future_6d</th>\n",
       "      <th>growth_future_7d</th>\n",
       "      <th>growth_future_8d</th>\n",
       "      <th>growth_future_9d</th>\n",
       "      <th>growth_future_10d</th>\n",
       "      <th>...</th>\n",
       "      <th>growth_future_21d</th>\n",
       "      <th>growth_future_22d</th>\n",
       "      <th>growth_future_23d</th>\n",
       "      <th>growth_future_24d</th>\n",
       "      <th>growth_future_25d</th>\n",
       "      <th>growth_future_26d</th>\n",
       "      <th>growth_future_27d</th>\n",
       "      <th>growth_future_28d</th>\n",
       "      <th>growth_future_29d</th>\n",
       "      <th>growth_future_30d</th>\n",
       "    </tr>\n",
       "  </thead>\n",
       "  <tbody>\n",
       "    <tr>\n",
       "      <th>count</th>\n",
       "      <td>39022.000000</td>\n",
       "      <td>38838.000000</td>\n",
       "      <td>38654.000000</td>\n",
       "      <td>38470.000000</td>\n",
       "      <td>38286.000000</td>\n",
       "      <td>38102.000000</td>\n",
       "      <td>37918.000000</td>\n",
       "      <td>37734.000000</td>\n",
       "      <td>37550.000000</td>\n",
       "      <td>37366.000000</td>\n",
       "      <td>...</td>\n",
       "      <td>35342.000000</td>\n",
       "      <td>35158.000000</td>\n",
       "      <td>34974.000000</td>\n",
       "      <td>34790.000000</td>\n",
       "      <td>34606.000000</td>\n",
       "      <td>34423.000000</td>\n",
       "      <td>34240.000000</td>\n",
       "      <td>34057.000000</td>\n",
       "      <td>33874.000000</td>\n",
       "      <td>33691.000000</td>\n",
       "    </tr>\n",
       "    <tr>\n",
       "      <th>mean</th>\n",
       "      <td>0.999790</td>\n",
       "      <td>0.999773</td>\n",
       "      <td>0.999794</td>\n",
       "      <td>0.999835</td>\n",
       "      <td>0.999831</td>\n",
       "      <td>0.999904</td>\n",
       "      <td>0.999831</td>\n",
       "      <td>0.999781</td>\n",
       "      <td>0.999775</td>\n",
       "      <td>0.999777</td>\n",
       "      <td>...</td>\n",
       "      <td>0.994392</td>\n",
       "      <td>0.993742</td>\n",
       "      <td>0.992975</td>\n",
       "      <td>0.992318</td>\n",
       "      <td>0.991736</td>\n",
       "      <td>0.991434</td>\n",
       "      <td>0.991167</td>\n",
       "      <td>0.990789</td>\n",
       "      <td>0.990481</td>\n",
       "      <td>0.990321</td>\n",
       "    </tr>\n",
       "    <tr>\n",
       "      <th>std</th>\n",
       "      <td>0.097619</td>\n",
       "      <td>0.137665</td>\n",
       "      <td>0.168910</td>\n",
       "      <td>0.194816</td>\n",
       "      <td>0.217575</td>\n",
       "      <td>0.240508</td>\n",
       "      <td>0.257681</td>\n",
       "      <td>0.274724</td>\n",
       "      <td>0.292829</td>\n",
       "      <td>0.310286</td>\n",
       "      <td>...</td>\n",
       "      <td>0.428038</td>\n",
       "      <td>0.438101</td>\n",
       "      <td>0.447628</td>\n",
       "      <td>0.456381</td>\n",
       "      <td>0.466407</td>\n",
       "      <td>0.479512</td>\n",
       "      <td>0.492805</td>\n",
       "      <td>0.509346</td>\n",
       "      <td>0.528560</td>\n",
       "      <td>0.550482</td>\n",
       "    </tr>\n",
       "    <tr>\n",
       "      <th>min</th>\n",
       "      <td>0.028674</td>\n",
       "      <td>0.003584</td>\n",
       "      <td>0.002729</td>\n",
       "      <td>0.002729</td>\n",
       "      <td>0.002729</td>\n",
       "      <td>0.002729</td>\n",
       "      <td>0.002729</td>\n",
       "      <td>0.002729</td>\n",
       "      <td>0.002729</td>\n",
       "      <td>0.002729</td>\n",
       "      <td>...</td>\n",
       "      <td>0.002729</td>\n",
       "      <td>0.002729</td>\n",
       "      <td>0.002729</td>\n",
       "      <td>0.002729</td>\n",
       "      <td>0.002729</td>\n",
       "      <td>0.002729</td>\n",
       "      <td>0.002729</td>\n",
       "      <td>0.002729</td>\n",
       "      <td>0.002729</td>\n",
       "      <td>0.002729</td>\n",
       "    </tr>\n",
       "    <tr>\n",
       "      <th>25%</th>\n",
       "      <td>0.977718</td>\n",
       "      <td>0.966825</td>\n",
       "      <td>0.957895</td>\n",
       "      <td>0.949926</td>\n",
       "      <td>0.942509</td>\n",
       "      <td>0.935010</td>\n",
       "      <td>0.928571</td>\n",
       "      <td>0.921826</td>\n",
       "      <td>0.915694</td>\n",
       "      <td>0.909091</td>\n",
       "      <td>...</td>\n",
       "      <td>0.843125</td>\n",
       "      <td>0.837472</td>\n",
       "      <td>0.832434</td>\n",
       "      <td>0.825128</td>\n",
       "      <td>0.821328</td>\n",
       "      <td>0.815139</td>\n",
       "      <td>0.811795</td>\n",
       "      <td>0.807500</td>\n",
       "      <td>0.803562</td>\n",
       "      <td>0.799304</td>\n",
       "    </tr>\n",
       "    <tr>\n",
       "      <th>50%</th>\n",
       "      <td>1.000000</td>\n",
       "      <td>1.000000</td>\n",
       "      <td>1.000000</td>\n",
       "      <td>1.000000</td>\n",
       "      <td>1.000000</td>\n",
       "      <td>1.000000</td>\n",
       "      <td>1.000000</td>\n",
       "      <td>1.000000</td>\n",
       "      <td>1.000000</td>\n",
       "      <td>1.000000</td>\n",
       "      <td>...</td>\n",
       "      <td>0.997168</td>\n",
       "      <td>0.996593</td>\n",
       "      <td>0.996209</td>\n",
       "      <td>0.995922</td>\n",
       "      <td>0.995575</td>\n",
       "      <td>0.994633</td>\n",
       "      <td>0.994163</td>\n",
       "      <td>0.994077</td>\n",
       "      <td>0.993040</td>\n",
       "      <td>0.992943</td>\n",
       "    </tr>\n",
       "    <tr>\n",
       "      <th>75%</th>\n",
       "      <td>1.014859</td>\n",
       "      <td>1.020172</td>\n",
       "      <td>1.025170</td>\n",
       "      <td>1.028302</td>\n",
       "      <td>1.031772</td>\n",
       "      <td>1.034121</td>\n",
       "      <td>1.036036</td>\n",
       "      <td>1.039225</td>\n",
       "      <td>1.040816</td>\n",
       "      <td>1.043011</td>\n",
       "      <td>...</td>\n",
       "      <td>1.057246</td>\n",
       "      <td>1.057826</td>\n",
       "      <td>1.057700</td>\n",
       "      <td>1.058397</td>\n",
       "      <td>1.058023</td>\n",
       "      <td>1.057560</td>\n",
       "      <td>1.059893</td>\n",
       "      <td>1.061728</td>\n",
       "      <td>1.063272</td>\n",
       "      <td>1.063811</td>\n",
       "    </tr>\n",
       "    <tr>\n",
       "      <th>max</th>\n",
       "      <td>6.826923</td>\n",
       "      <td>6.971311</td>\n",
       "      <td>7.625593</td>\n",
       "      <td>8.650538</td>\n",
       "      <td>8.952632</td>\n",
       "      <td>10.309092</td>\n",
       "      <td>10.183544</td>\n",
       "      <td>10.380646</td>\n",
       "      <td>9.464706</td>\n",
       "      <td>9.105319</td>\n",
       "      <td>...</td>\n",
       "      <td>12.634409</td>\n",
       "      <td>11.491442</td>\n",
       "      <td>12.486842</td>\n",
       "      <td>12.284789</td>\n",
       "      <td>12.661000</td>\n",
       "      <td>15.025219</td>\n",
       "      <td>14.782093</td>\n",
       "      <td>19.655310</td>\n",
       "      <td>22.918785</td>\n",
       "      <td>27.198465</td>\n",
       "    </tr>\n",
       "  </tbody>\n",
       "</table>\n",
       "<p>8 rows × 30 columns</p>\n",
       "</div>"
      ],
      "text/plain": [
       "       growth_future_1d  growth_future_2d  growth_future_3d  growth_future_4d  \\\n",
       "count      39022.000000      38838.000000      38654.000000      38470.000000   \n",
       "mean           0.999790          0.999773          0.999794          0.999835   \n",
       "std            0.097619          0.137665          0.168910          0.194816   \n",
       "min            0.028674          0.003584          0.002729          0.002729   \n",
       "25%            0.977718          0.966825          0.957895          0.949926   \n",
       "50%            1.000000          1.000000          1.000000          1.000000   \n",
       "75%            1.014859          1.020172          1.025170          1.028302   \n",
       "max            6.826923          6.971311          7.625593          8.650538   \n",
       "\n",
       "       growth_future_5d  growth_future_6d  growth_future_7d  growth_future_8d  \\\n",
       "count      38286.000000      38102.000000      37918.000000      37734.000000   \n",
       "mean           0.999831          0.999904          0.999831          0.999781   \n",
       "std            0.217575          0.240508          0.257681          0.274724   \n",
       "min            0.002729          0.002729          0.002729          0.002729   \n",
       "25%            0.942509          0.935010          0.928571          0.921826   \n",
       "50%            1.000000          1.000000          1.000000          1.000000   \n",
       "75%            1.031772          1.034121          1.036036          1.039225   \n",
       "max            8.952632         10.309092         10.183544         10.380646   \n",
       "\n",
       "       growth_future_9d  growth_future_10d  ...  growth_future_21d  \\\n",
       "count      37550.000000       37366.000000  ...       35342.000000   \n",
       "mean           0.999775           0.999777  ...           0.994392   \n",
       "std            0.292829           0.310286  ...           0.428038   \n",
       "min            0.002729           0.002729  ...           0.002729   \n",
       "25%            0.915694           0.909091  ...           0.843125   \n",
       "50%            1.000000           1.000000  ...           0.997168   \n",
       "75%            1.040816           1.043011  ...           1.057246   \n",
       "max            9.464706           9.105319  ...          12.634409   \n",
       "\n",
       "       growth_future_22d  growth_future_23d  growth_future_24d  \\\n",
       "count       35158.000000       34974.000000       34790.000000   \n",
       "mean            0.993742           0.992975           0.992318   \n",
       "std             0.438101           0.447628           0.456381   \n",
       "min             0.002729           0.002729           0.002729   \n",
       "25%             0.837472           0.832434           0.825128   \n",
       "50%             0.996593           0.996209           0.995922   \n",
       "75%             1.057826           1.057700           1.058397   \n",
       "max            11.491442          12.486842          12.284789   \n",
       "\n",
       "       growth_future_25d  growth_future_26d  growth_future_27d  \\\n",
       "count       34606.000000       34423.000000       34240.000000   \n",
       "mean            0.991736           0.991434           0.991167   \n",
       "std             0.466407           0.479512           0.492805   \n",
       "min             0.002729           0.002729           0.002729   \n",
       "25%             0.821328           0.815139           0.811795   \n",
       "50%             0.995575           0.994633           0.994163   \n",
       "75%             1.058023           1.057560           1.059893   \n",
       "max            12.661000          15.025219          14.782093   \n",
       "\n",
       "       growth_future_28d  growth_future_29d  growth_future_30d  \n",
       "count       34057.000000       33874.000000       33691.000000  \n",
       "mean            0.990789           0.990481           0.990321  \n",
       "std             0.509346           0.528560           0.550482  \n",
       "min             0.002729           0.002729           0.002729  \n",
       "25%             0.807500           0.803562           0.799304  \n",
       "50%             0.994077           0.993040           0.992943  \n",
       "75%             1.061728           1.063272           1.063811  \n",
       "max            19.655310          22.918785          27.198465  \n",
       "\n",
       "[8 rows x 30 columns]"
      ]
     },
     "execution_count": 60,
     "metadata": {},
     "output_type": "execute_result"
    }
   ],
   "source": [
    "growth_columns = [\"growth_future_\" + str(i) + \"d\" for i in range(1, 31)]\n",
    "stocks_df[growth_columns].describe()"
   ]
  },
  {
   "cell_type": "markdown",
   "metadata": {},
   "source": []
  },
  {
   "cell_type": "code",
   "execution_count": 72,
   "metadata": {},
   "outputs": [],
   "source": [
    "d = stocks_df[growth_columns].describe().reset_index()"
   ]
  },
  {
   "cell_type": "code",
   "execution_count": 78,
   "metadata": {},
   "outputs": [
    {
     "data": {
      "text/html": [
       "<div>\n",
       "<style scoped>\n",
       "    .dataframe tbody tr th:only-of-type {\n",
       "        vertical-align: middle;\n",
       "    }\n",
       "\n",
       "    .dataframe tbody tr th {\n",
       "        vertical-align: top;\n",
       "    }\n",
       "\n",
       "    .dataframe thead th {\n",
       "        text-align: right;\n",
       "    }\n",
       "</style>\n",
       "<table border=\"1\" class=\"dataframe\">\n",
       "  <thead>\n",
       "    <tr style=\"text-align: right;\">\n",
       "      <th></th>\n",
       "      <th>index</th>\n",
       "      <th>variable</th>\n",
       "      <th>value</th>\n",
       "    </tr>\n",
       "  </thead>\n",
       "  <tbody>\n",
       "    <tr>\n",
       "      <th>29</th>\n",
       "      <td>75%</td>\n",
       "      <td>growth_future_30d</td>\n",
       "      <td>1.063811</td>\n",
       "    </tr>\n",
       "    <tr>\n",
       "      <th>28</th>\n",
       "      <td>75%</td>\n",
       "      <td>growth_future_29d</td>\n",
       "      <td>1.063272</td>\n",
       "    </tr>\n",
       "    <tr>\n",
       "      <th>27</th>\n",
       "      <td>75%</td>\n",
       "      <td>growth_future_28d</td>\n",
       "      <td>1.061728</td>\n",
       "    </tr>\n",
       "    <tr>\n",
       "      <th>26</th>\n",
       "      <td>75%</td>\n",
       "      <td>growth_future_27d</td>\n",
       "      <td>1.059893</td>\n",
       "    </tr>\n",
       "    <tr>\n",
       "      <th>23</th>\n",
       "      <td>75%</td>\n",
       "      <td>growth_future_24d</td>\n",
       "      <td>1.058397</td>\n",
       "    </tr>\n",
       "    <tr>\n",
       "      <th>24</th>\n",
       "      <td>75%</td>\n",
       "      <td>growth_future_25d</td>\n",
       "      <td>1.058023</td>\n",
       "    </tr>\n",
       "    <tr>\n",
       "      <th>21</th>\n",
       "      <td>75%</td>\n",
       "      <td>growth_future_22d</td>\n",
       "      <td>1.057826</td>\n",
       "    </tr>\n",
       "    <tr>\n",
       "      <th>22</th>\n",
       "      <td>75%</td>\n",
       "      <td>growth_future_23d</td>\n",
       "      <td>1.057700</td>\n",
       "    </tr>\n",
       "    <tr>\n",
       "      <th>25</th>\n",
       "      <td>75%</td>\n",
       "      <td>growth_future_26d</td>\n",
       "      <td>1.057560</td>\n",
       "    </tr>\n",
       "    <tr>\n",
       "      <th>20</th>\n",
       "      <td>75%</td>\n",
       "      <td>growth_future_21d</td>\n",
       "      <td>1.057246</td>\n",
       "    </tr>\n",
       "    <tr>\n",
       "      <th>19</th>\n",
       "      <td>75%</td>\n",
       "      <td>growth_future_20d</td>\n",
       "      <td>1.055888</td>\n",
       "    </tr>\n",
       "    <tr>\n",
       "      <th>18</th>\n",
       "      <td>75%</td>\n",
       "      <td>growth_future_19d</td>\n",
       "      <td>1.055045</td>\n",
       "    </tr>\n",
       "    <tr>\n",
       "      <th>17</th>\n",
       "      <td>75%</td>\n",
       "      <td>growth_future_18d</td>\n",
       "      <td>1.053435</td>\n",
       "    </tr>\n",
       "    <tr>\n",
       "      <th>16</th>\n",
       "      <td>75%</td>\n",
       "      <td>growth_future_17d</td>\n",
       "      <td>1.052560</td>\n",
       "    </tr>\n",
       "    <tr>\n",
       "      <th>15</th>\n",
       "      <td>75%</td>\n",
       "      <td>growth_future_16d</td>\n",
       "      <td>1.051068</td>\n",
       "    </tr>\n",
       "    <tr>\n",
       "      <th>14</th>\n",
       "      <td>75%</td>\n",
       "      <td>growth_future_15d</td>\n",
       "      <td>1.049734</td>\n",
       "    </tr>\n",
       "    <tr>\n",
       "      <th>13</th>\n",
       "      <td>75%</td>\n",
       "      <td>growth_future_14d</td>\n",
       "      <td>1.048016</td>\n",
       "    </tr>\n",
       "    <tr>\n",
       "      <th>12</th>\n",
       "      <td>75%</td>\n",
       "      <td>growth_future_13d</td>\n",
       "      <td>1.047246</td>\n",
       "    </tr>\n",
       "    <tr>\n",
       "      <th>11</th>\n",
       "      <td>75%</td>\n",
       "      <td>growth_future_12d</td>\n",
       "      <td>1.045279</td>\n",
       "    </tr>\n",
       "    <tr>\n",
       "      <th>10</th>\n",
       "      <td>75%</td>\n",
       "      <td>growth_future_11d</td>\n",
       "      <td>1.043854</td>\n",
       "    </tr>\n",
       "    <tr>\n",
       "      <th>9</th>\n",
       "      <td>75%</td>\n",
       "      <td>growth_future_10d</td>\n",
       "      <td>1.043011</td>\n",
       "    </tr>\n",
       "    <tr>\n",
       "      <th>8</th>\n",
       "      <td>75%</td>\n",
       "      <td>growth_future_9d</td>\n",
       "      <td>1.040816</td>\n",
       "    </tr>\n",
       "    <tr>\n",
       "      <th>7</th>\n",
       "      <td>75%</td>\n",
       "      <td>growth_future_8d</td>\n",
       "      <td>1.039225</td>\n",
       "    </tr>\n",
       "    <tr>\n",
       "      <th>6</th>\n",
       "      <td>75%</td>\n",
       "      <td>growth_future_7d</td>\n",
       "      <td>1.036036</td>\n",
       "    </tr>\n",
       "    <tr>\n",
       "      <th>5</th>\n",
       "      <td>75%</td>\n",
       "      <td>growth_future_6d</td>\n",
       "      <td>1.034121</td>\n",
       "    </tr>\n",
       "    <tr>\n",
       "      <th>4</th>\n",
       "      <td>75%</td>\n",
       "      <td>growth_future_5d</td>\n",
       "      <td>1.031772</td>\n",
       "    </tr>\n",
       "    <tr>\n",
       "      <th>3</th>\n",
       "      <td>75%</td>\n",
       "      <td>growth_future_4d</td>\n",
       "      <td>1.028302</td>\n",
       "    </tr>\n",
       "    <tr>\n",
       "      <th>2</th>\n",
       "      <td>75%</td>\n",
       "      <td>growth_future_3d</td>\n",
       "      <td>1.025170</td>\n",
       "    </tr>\n",
       "    <tr>\n",
       "      <th>1</th>\n",
       "      <td>75%</td>\n",
       "      <td>growth_future_2d</td>\n",
       "      <td>1.020172</td>\n",
       "    </tr>\n",
       "    <tr>\n",
       "      <th>0</th>\n",
       "      <td>75%</td>\n",
       "      <td>growth_future_1d</td>\n",
       "      <td>1.014859</td>\n",
       "    </tr>\n",
       "  </tbody>\n",
       "</table>\n",
       "</div>"
      ],
      "text/plain": [
       "   index           variable     value\n",
       "29   75%  growth_future_30d  1.063811\n",
       "28   75%  growth_future_29d  1.063272\n",
       "27   75%  growth_future_28d  1.061728\n",
       "26   75%  growth_future_27d  1.059893\n",
       "23   75%  growth_future_24d  1.058397\n",
       "24   75%  growth_future_25d  1.058023\n",
       "21   75%  growth_future_22d  1.057826\n",
       "22   75%  growth_future_23d  1.057700\n",
       "25   75%  growth_future_26d  1.057560\n",
       "20   75%  growth_future_21d  1.057246\n",
       "19   75%  growth_future_20d  1.055888\n",
       "18   75%  growth_future_19d  1.055045\n",
       "17   75%  growth_future_18d  1.053435\n",
       "16   75%  growth_future_17d  1.052560\n",
       "15   75%  growth_future_16d  1.051068\n",
       "14   75%  growth_future_15d  1.049734\n",
       "13   75%  growth_future_14d  1.048016\n",
       "12   75%  growth_future_13d  1.047246\n",
       "11   75%  growth_future_12d  1.045279\n",
       "10   75%  growth_future_11d  1.043854\n",
       "9    75%  growth_future_10d  1.043011\n",
       "8    75%   growth_future_9d  1.040816\n",
       "7    75%   growth_future_8d  1.039225\n",
       "6    75%   growth_future_7d  1.036036\n",
       "5    75%   growth_future_6d  1.034121\n",
       "4    75%   growth_future_5d  1.031772\n",
       "3    75%   growth_future_4d  1.028302\n",
       "2    75%   growth_future_3d  1.025170\n",
       "1    75%   growth_future_2d  1.020172\n",
       "0    75%   growth_future_1d  1.014859"
      ]
     },
     "execution_count": 78,
     "metadata": {},
     "output_type": "execute_result"
    }
   ],
   "source": [
    "d[d[\"index\"]==\"75%\"].melt(id_vars=\"index\").sort_values(by=\"value\", ascending=False)"
   ]
  },
  {
   "cell_type": "code",
   "execution_count": 68,
   "metadata": {},
   "outputs": [
    {
     "ename": "TypeError",
     "evalue": "quantile() missing 2 required positional arguments: 'a' and 'q'",
     "output_type": "error",
     "traceback": [
      "\u001b[0;31m---------------------------------------------------------------------------\u001b[0m",
      "\u001b[0;31mTypeError\u001b[0m                                 Traceback (most recent call last)",
      "Cell \u001b[0;32mIn[68], line 1\u001b[0m\n\u001b[0;32m----> 1\u001b[0m stocks_df\u001b[38;5;241m.\u001b[39magg([\u001b[38;5;124m\"\u001b[39m\u001b[38;5;124mmin\u001b[39m\u001b[38;5;124m\"\u001b[39m, \u001b[38;5;124m\"\u001b[39m\u001b[38;5;124mmax\u001b[39m\u001b[38;5;124m\"\u001b[39m, \u001b[43mnp\u001b[49m\u001b[38;5;241;43m.\u001b[39;49m\u001b[43mquantile\u001b[49m\u001b[43m(\u001b[49m\u001b[43m)\u001b[49m])\n",
      "\u001b[0;31mTypeError\u001b[0m: quantile() missing 2 required positional arguments: 'a' and 'q'"
     ]
    }
   ],
   "source": [
    "stocks_df.agg([\"min\", \"max\", np.quant)])"
   ]
  },
  {
   "cell_type": "code",
   "execution_count": null,
   "metadata": {},
   "outputs": [],
   "source": []
  }
 ],
 "metadata": {
  "kernelspec": {
   "display_name": "Python 3",
   "language": "python",
   "name": "python3"
  },
  "language_info": {
   "codemirror_mode": {
    "name": "ipython",
    "version": 3
   },
   "file_extension": ".py",
   "mimetype": "text/x-python",
   "name": "python",
   "nbconvert_exporter": "python",
   "pygments_lexer": "ipython3",
   "version": "3.12.1"
  }
 },
 "nbformat": 4,
 "nbformat_minor": 2
}
